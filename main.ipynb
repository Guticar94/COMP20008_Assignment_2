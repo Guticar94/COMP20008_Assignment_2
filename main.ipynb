{
 "cells": [
  {
   "attachments": {},
   "cell_type": "markdown",
   "metadata": {},
   "source": [
    "<blockquote style=\"padding: 20px; text-align: center;\">\n",
    "<h1><b>COMP20008 - ELEMENTS OF DATA PROCESSING</b></p></h1>\n",
    "<h1><b>A2-Project 1</b></p></h1>\n",
    "<h3>Date: 10/05/2023</h3>\n",
    "______________________________________________________________________________________\n",
    "<h2><b>Group leader:<b></h2>\n",
    "<h3><b>Username:</b> agutierrezca\n",
    "<b>Name:</b> Andres Felipe Gutierrez Carreno</h3>\n",
    "<h2><b>Members:</b></h2>\n",
    "<h3><b>Username:</b>LiamZHOU23 <b>Name:</b>XINLIANG ZHOU </h3>\n",
    "<h3><b>Username:</b>Bangiri <b>Name:</b>XIMING BAI</h3>\n",
    "<h3><b>Username:</b>Ojas <b>Name:</b>Ojaswi Dheer</h3>\n",
    "______________________________________________________________________________________\n",
    "</main>"
   ]
  },
  {
   "attachments": {},
   "cell_type": "markdown",
   "metadata": {},
   "source": [
    "<blockquote style=\"padding: 10px;\">\n",
    "<h1><b>Content Table</b></h1>\n",
    "<h2><b>1. Prologue</b></h2>\n",
    "<h3><i>\n",
    "  &ensp;1.1 Introduction<br>   \n",
    "  &ensp;1.2 Objective<br>\n",
    "  &ensp;1.3 Instructions<br>\n",
    "  &ensp;1.4 Requirements   \n",
    "</i></h3> \n",
    "<h2><b>2. Data Governance</b></h2>\n",
    "<h3><i>\n",
    "  &ensp;2.1 Metadata: Database Dictionary<br>  \n",
    "  &emsp;&emsp;2.1.1 Relevant fields according metadata<br>  \n",
    "  &ensp;2.2 Data Quality: Define quality rules<br>    \n",
    "  &emsp;&emsp;2.2.1 Apply Data Quality rules<br>  \n",
    "  &ensp;2.3 Imputation: Define imputation rules<br>  \n",
    "  &emsp;&emsp;2.3.1 Apply data imputation Rules \n",
    "</i></h3> \n",
    "\n",
    "<h2><b> 3. Data Processing </b></h2>\n",
    "<h3><i>\n",
    "  &ensp;3.1 NLP<br>  \n",
    "  &ensp;3.2 Exploratory Data Analysis (EDA)<br>  \n",
    "  &ensp;3.3 Preprocessing<br>  \n",
    "  &emsp;&emsp;3.3.1 Numerical Variables<br>  \n",
    "  &emsp;&emsp;3.3.2 Categorical Variables\n",
    "</i></h3> \n",
    "\n",
    "<h2><b>4.  ML modeling</b></h2>\n",
    "<h3><i>\n",
    "  &ensp;4.1 Train-test split<br> \n",
    "  &ensp;4.2 Balancing: Oversampling imbalanced dataset<br>       \n",
    "  &ensp;4.3 Logistic Regression<br>   \n",
    "  &emsp;&emsp;4.3.1 LR - balanced dataset<br>  \n",
    "  &emsp;&emsp;4.3.2 LR - Bootstrapping<br>  \n",
    "  &ensp;4.4 Random Forest<br>   \n",
    "  &emsp;&emsp;4.4.1 RF - balanced dataset<br>  \n",
    "  &emsp;&emsp;4.4.2 RF - Bootstrapping<br>  \n",
    "  &ensp;4.5 XgBoost<br>  \n",
    "  &emsp;&emsp;4.5.1 XGB - balanced dataset<br>  \n",
    "  &ensp;&emsp;4.5.2 XGB - Bootstrapping<br>  \n",
    "\t&emsp;4.6 Models evaluation and selection<br>  \n",
    "  &ensp;4.7 Feature selection\n",
    "</i></h3>\n",
    "\n",
    "<h2><b>5. Conclussions</b></h2>\n",
    "<h2><b>6. Insights</b></h2>\n",
    "<h2><b>7. Appendix</b></h2>\n",
    "</main>"
   ]
  },
  {
   "attachments": {},
   "cell_type": "markdown",
   "metadata": {},
   "source": [
    "<blockquote style=\"padding: 10px;\">\n",
    "<h1><b>1. Prologue</b></h1> \n",
    "<h2>1.1 Introduction</h2>\n",
    "\n",
    "<p style='text-align: justify;'>\n",
    "The Victorian building authority is a state regulatory entity created to control Victoria's building and plumbing industries. Hence, as sometimes there are disagreements arising over payment among constructors and contractors, they have designed an instrument to ease the process of due payment recovery under a construction contract in a fast and unexpensive manner and without the needing of lawyers involved in the process.\n",
    "</p>\n",
    "\n",
    "<p style='text-align: justify;'>\n",
    "The instrument designed by the Victorian Building Authority is known as the Security of Payment Act. This act aims to provide a quick and cost-effective method for resolving disputes regarding payments under construction contracts. It helps to facilitate timely payments between constructors, contractors, and subcontractors, which can prevent disputes and ultimately improve the efficiency of the construction industry in Victoria. The Security of Payment Act is designed to promote fairness and transparency in the construction industry, benefiting all parties involved. This initiative by the Victorian Building Authority contributes to the growth and development of the construction industry, while also enhancing the state's economy as a whole.\n",
    "    \n",
    "<span style=\"color:grey\"><b> a.) What information does your chosen dataset contain? What is the scope/size of your chosen dataset? </b>\n",
    "\n",
    "<p style='text-align: justify;'>\n",
    "In this context an open dataset has been provided by the government of Australia with information related to these payment disputes between 2021-05-11 and 2022-06-29. This dataset is composed by 45 fields and 324 samples of construction payments recovery processes. Within the document many of the field are related to the <a href=\"https://content.legislation.vic.gov.au/sites/default/files/cc273c60-f6d4-3c6b-8059-b7da96d139ae_02-15aa012%20authorised.pdf\"> Building and Construction Industry Security of Payment Act 2002</a> which is the instrument created to legally settle the disputes raised over contract payments.\n",
    "</p>\n",
    "\n",
    "<span style=\"color:grey\"><b> b.) What is one research question that can be answered by a supervised learning experiments using this dataset? </b></span>\n",
    "<p style='text-align: justify;'>\n",
    "The proposed instrument for this project aims to estimate what is the probability to gain a claim regarding building and construction contracts breaches if the process is decided by an arbiter and goes all the way through a final determination. This approach aims to identify the probabilities of wining for both parties (Claimant and Respondent) as well as the most determining factors (variables) facing these probabilities.\n",
    "</p>\n",
    "\n",
    "\n",
    "<span style=\"color:grey\"><b> c.) Which audience would be interested in an answer to this question and why. For example, will people in social psychology, the humanities or linguistics be interested? In what way do you think your analysis can potentially excite them?\n",
    " </b></span>\n",
    "\n",
    "<p style='text-align: justify;'>\n",
    "This study has two target audiences these are contract <b>claimants</b> and <b>respondents</b>. For this target audiences, the answer to this question can provide very important information associated to the probability of winning the dispute, the factors related to the increasing of this probability, and the results regarding to how much can the claimants get regarding what they initially claimed, and how much it would cost to them in average in case the clam is unsuccessful. This would enable them to make reasonable plans and reduce unnecessary economic losses.\n",
    " </p>\n",
    " \n",
    "<span style=\"color:grey\"><b> d.) What are appropriate data wrangling techniques you could use to process your data and why are the selected techniques appropriate?\n",
    "</b></span>\n",
    "<p style='text-align: justify;'>\n",
    "The data wrangling techniques useful for this case are associated to the term <b>data governance</b> which contains all the methods associated to increasing the quality of the dataset, hence, here we defined and applied metadata and quality criteria as well as data imputation methods.\n",
    " \n",
    "These techniques are appropriate to solve the following problems:\n",
    " </p>\n",
    "\n",
    "<span style=\"color:grey\"><b> e.) Are there any problems that are present in the data?\n",
    "</b></span>\n",
    "<p style='text-align: justify;'>\n",
    "The dataset has some major problems in terms of metadata, there are no data dictionaries nor fields specifications. We had to go over all the fields one by one and interpret theirs’s definition, also the dataset present some inconsistencies regarding data schema, where fields that in theory are numerical or dates have string values, there is also a quality problem in relation to data completeness and data standardisation, the features present high numbers of NaN values (in some cases over 50% of incompleteness) and there are no standardisation in the categorical values (Use of capitalised and lower characters indistinctly). finally, one last problem found is that the data received does not have enough information to generalise the results obtained. Thus, these results can only be partially interpreted as a result for this exercise.\n",
    " </p>\n",
    "\n",
    " <span style=\"color:grey\"><b> f.) your chosen techniques have potential downstream effects on your analysis?\n",
    "</b></span>\n",
    "\n",
    "<p style='text-align: justify;'>\n",
    "The chosen techniques were applied to increase as much as possible the predictivity results of the models, thus, the statistic assumptions for running these kinds of models, are not considering. Consequently, the inferential interpretation of these models can be biased somehow by this approach.\n",
    " </p>\n",
    "\n",
    "<span style=\"color:grey\"><b> g.) What are appropriate analysis techniques you could use to answer the research question. You must ensure there is a supervised learning task involved. You can also include other supporting analysis such as correlations and clustering. Why have you chosen to use particular techniques?  \n",
    " </b></span>\n",
    "\n",
    "<p style='text-align: justify;'>\n",
    "The analysis techniques chosen are directly related to the objective task. Thus, as our goal is to correctly classify the probability of a positive output when a dispute arises, we have chosen to follow a logical process to accomplish this goal. In this case the main techniques used are as follow:\n",
    "</p>\n",
    "\n",
    "- **EDA (Exploratory Data Analysis):**  here we applied the knowledge gained during the course in relation to topics such as features plotting through bar and pie plots to understand the nature of the different variables, numerical variable correlation (Pearson correlation) to discard highly correlated variables, and contingency tables to evaluate categorical values relation.\n",
    "- **NLP (Natural language processing):** We did **feature engineering** using NLP techniques acquired during the semester  transform text strings into a cluster feature, in a way that we can use the text variable as a transformed variable representing the cluster associated to the text in relation to the response variable.\n",
    "- **Classification machine learning algorythms:** The supervised learning task selected to solve our purpose research question, is a **supervised classification model** through three different algorithms to test which better predict the response variable.\n",
    "- **Target Feature Balancing:** When the response variable selected is imbalanced this is a technique suitable to balance it in this case we explore balancing by **oversampling** the dataset considering that the dataset is already too small.\n",
    "- **Bootstraping:** Bootstrapping was selected as another approach to improve the model predictivity when facing unbalanced datasets. \n",
    "- **Feature selection:** The selected models to run have the particularity that they are very good at classifying category labels in binomial regression, and also give a good interpretation of the results thanks to the regression nature of the Logistic Regression and the tree-like nature of the random forest and the xgboost models. Thus, in the end, for the selected model, we will be able to select the most relevant features in the selected approach when maximising the predictivity capacity of our models.\n",
    "<span style=\"color:CYAN\"> *Further details once finished the ML part* </span>  \n",
    "\n",
    "<h2>1.2 Objectives</h2>        \n",
    "<h3>1.2.1 General</h3>  \n",
    "\n",
    "<p><blockquote style=\"padding: 10px;\"><i>\n",
    "\n",
    "- Estimate what is the probability to gain a claim regarding building and construction contracts breaches if the process is decided by an arbiter and goes all the way through a final determination.\n",
    "\n",
    "</i></blockquote></p>\n",
    "\n",
    "<h3>1.2.2 Specific</h3>    \n",
    "\n",
    "<p>\n",
    "<blockquote style=\"padding: 10px;\"><i>\n",
    "\n",
    "- To gain an appreciation of open datasets and ask meaningful questions to them.  \n",
    "\n",
    "- To practise a variety of data wrangling skills you have learned on real-world datasets.  \n",
    "\n",
    "- To build a data pipeline as a data scientist in training.   \n",
    "\n",
    "- To gain experience in communication and group work, including writing a report, collaborating with your teammates, and defending the importance of your research.  \n",
    "</i></blockquote>\n",
    "</p>"
   ]
  },
  {
   "attachments": {},
   "cell_type": "markdown",
   "metadata": {},
   "source": [
    "<blockquote style=\"padding: 10px;\">\n",
    "<h1> <span style=\"color:grey\">  2. Data Governance </h1>\n",
    "</span>\n",
    "<h2> <span style=\"color:grey\"> 2.1 Metadata </h2>\n",
    "\n",
    "As there are no resources available in the web page that give us a hint of the fields description, we came up with ourself interpretation of these fields:\n",
    "\n",
    "<table style=\"border:1px solid black;margin-left:auto;margin-right:auto;\">\n",
    "  <thead>\n",
    "      <tr style=\"text-align: center;\">\n",
    "      <th></th>\n",
    "      <th>Field name</th>\n",
    "      <th>Description</th>\n",
    "      <th>Data type</th>\n",
    "      </tr>\n",
    "  </thead>\n",
    "  <tbody>\n",
    "      <tr>\n",
    "        <th>0</th>\n",
    "        <td>No. of App.</td>\n",
    "        <td>Unique identifier of the application</td>\n",
    "        <td>object</td>\n",
    "      </tr>\n",
    "      <tr>\n",
    "        <th>1</th>\n",
    "        <td>Application date</td>\n",
    "        <td>Payment recovery application date</td>\n",
    "        <td>datetime64[ns]</td>\n",
    "      </tr>\n",
    "      <tr>\n",
    "        <th>2</th>\n",
    "        <td>Acceptance date</td>\n",
    "        <td>Payment recovery acceptance date</td>\n",
    "        <td>datetime64[ns]</td>\n",
    "      </tr>\n",
    "      <tr>\n",
    "        <th>3</th>\n",
    "        <td>Description of project and contract works</td>\n",
    "        <td>Description of the service provided in dispute</td>\n",
    "        <td>object</td>\n",
    "      </tr>\n",
    "      <tr>\n",
    "        <th>4</th>\n",
    "        <td>Project postcode</td>\n",
    "        <td>Postal code of the geographical location of the project</td>\n",
    "        <td>object</td>\n",
    "      </tr>\n",
    "      <tr>\n",
    "        <th>5</th>\n",
    "        <td>Claimed amount (ex GST)</td>\n",
    "        <td>Amount of money claimed excluded taxes (AUD)</td>\n",
    "        <td>float64</td>\n",
    "      </tr>\n",
    "      <tr>\n",
    "        <th>6</th>\n",
    "        <td>Payment Schedule provided</td>\n",
    "        <td>Marks wether if the contractor provied payment schedule to the service provider</td>\n",
    "        <td>boolean</td>\n",
    "      </tr>\n",
    "      <tr>\n",
    "        <th>7</th>\n",
    "        <td>Payment Schedule provision</td>\n",
    "        <td>Marks wether if the provisioned pyment schedule follows th S15 or the S18 of the SOP act</td>\n",
    "        <td>object</td>\n",
    "      </tr>\n",
    "      <tr>\n",
    "        <th>8</th>\n",
    "        <td>Amount of Payment Schedule (ex GST)</td>\n",
    "        <td>If `Payment Schedule provided`, how much money was provisioned (AUD)</td>\n",
    "        <td>float64</td>\n",
    "      </tr>\n",
    "      <tr>\n",
    "        <th>9</th>\n",
    "        <td>Section of Act application made under</td>\n",
    "        <td>What chapter of the section S18 of the SOP act is the complaint based on </td>\n",
    "        <td>object</td>\n",
    "      </tr>\n",
    "      <tr>\n",
    "        <th>10</th>\n",
    "        <td>Section 18(2) notice issued</td>\n",
    "        <td>Marks wheter there were a notice issued to the respondant according Section 18(2)</td>\n",
    "        <td>boolean</td>\n",
    "      </tr>\n",
    "      <tr>\n",
    "        <th>11</th>\n",
    "        <td>Business Type/Activity (Claimant)</td>\n",
    "        <td>Economic activity of the claimant</td>\n",
    "        <td>object</td>\n",
    "      </tr>\n",
    "      <tr>\n",
    "        <th>12</th>\n",
    "        <td>Business Structure (Claimant)</td>\n",
    "        <td>Type of business of the claimant</td>\n",
    "        <td>object</td>\n",
    "      </tr>\n",
    "      <tr>\n",
    "        <th>13</th>\n",
    "        <td>Claimant advisers</td>\n",
    "        <td>Advaisers of the claimant in the payment dispute</td>\n",
    "        <td>object</td>\n",
    "      </tr>\n",
    "      <tr>\n",
    "        <th>14</th>\n",
    "        <td>Business Type/Activity (Respondent)</td>\n",
    "        <td>Economic activity of the respondent</td>\n",
    "        <td>object</td>\n",
    "      </tr>\n",
    "      <tr>\n",
    "        <th>15</th>\n",
    "        <td>Business Structure (Respondent)</td>\n",
    "        <td>Type of business of the respondent</td>\n",
    "        <td>object</td>\n",
    "      </tr>\n",
    "      <tr>\n",
    "        <th>16</th>\n",
    "        <td>Respondent advisers</td>\n",
    "        <td>Advaisers of the respondent in the payment dispute</td>\n",
    "        <td>object</td>\n",
    "      </tr>\n",
    "      <tr>\n",
    "        <th>17</th>\n",
    "        <td>Determination status</td>\n",
    "        <td>Marks if the ANAs have made a determination regarding the dispute</td>\n",
    "        <td>object</td>\n",
    "      </tr>\n",
    "      <tr>\n",
    "        <th>18</th>\n",
    "        <td>Determination completion date</td>\n",
    "        <td>Marks the date of the dispute determination in case it is already settled</td>\n",
    "        <td>object</td>\n",
    "      </tr>\n",
    "      <tr>\n",
    "        <th>19</th>\n",
    "        <td>Reasons if the application is not determined</td>\n",
    "        <td>Marks the reason for a determination status when it is not determined</td>\n",
    "        <td>object</td>\n",
    "      </tr>\n",
    "      <tr>\n",
    "        <th>20</th>\n",
    "        <td>s21(2B) new reasons provided by Respondent</td>\n",
    "        <td>Marks wheter the respondent provided new reasons for the modification in payment scheduled</td>\n",
    "        <td>object</td>\n",
    "      </tr>\n",
    "      <tr>\n",
    "        <th>21</th>\n",
    "        <td>s21(2B) notice sent to Claimant</td>\n",
    "        <td>Marks if a notice was sent to claimant according to respondent s21(2B) response</td>\n",
    "        <td>object</td>\n",
    "      </tr>\n",
    "      <tr>\n",
    "        <th>22</th>\n",
    "        <td>s22(4)(b) extension of time sought</td>\n",
    "        <td>Marks whether an extension of time was sought</td>\n",
    "        <td>object</td>\n",
    "      </tr>\n",
    "      <tr>\n",
    "        <th>23</th>\n",
    "        <td>Determination released</td>\n",
    "        <td>Mark if the adjudicator determination was already released</td>\n",
    "        <td>object</td>\n",
    "      </tr>\n",
    "      <tr>\n",
    "        <th>24</th>\n",
    "        <td>Determination released date</td>\n",
    "        <td>Marks the date of the determination release</td>\n",
    "        <td>datetime64[ns]</td>\n",
    "      </tr>\n",
    "      <tr>\n",
    "        <th>25</th>\n",
    "        <td> Adjudicated amount (ex GST) </td>\n",
    "        <td>Marks the amount of money adjudicated</td>\n",
    "        <td>float64</td>\n",
    "      </tr>\n",
    "      <tr>\n",
    "        <th>26</th>\n",
    "        <td>Amended determination</td>\n",
    "        <td>Maks if there was an amend in the determination</td>\n",
    "        <td>boolean</td>\n",
    "      </tr>\n",
    "      <tr>\n",
    "        <th>27</th>\n",
    "        <td>Fee type</td>\n",
    "        <td>Type of payment offered to the service provider (Capped, Hourly, Fixed)</td>\n",
    "        <td>object</td>\n",
    "      </tr>\n",
    "      <tr>\n",
    "        <th>28</th>\n",
    "        <td>Total Adjudicator fee (ex GST)</td>\n",
    "        <td>Fee charged by the adjudicator</td>\n",
    "        <td>float64</td>\n",
    "      </tr>\n",
    "      <tr>\n",
    "        <th>29</th>\n",
    "        <td>Adjudicator's fee payable by Claimant %</td>\n",
    "        <td>Percent of the fee payed by the Claimant</td>\n",
    "        <td>float64</td>\n",
    "      </tr>\n",
    "      <tr>\n",
    "        <th>30</th>\n",
    "        <td>Adjudicator's fee payable by Respondent %</td>\n",
    "        <td>Percent of the fee payed by the Respondent</td>\n",
    "        <td>float64</td>\n",
    "      </tr>\n",
    "      <tr>\n",
    "        <th>31</th>\n",
    "        <td>Adjudicator's fee payable by Claimant (ex GST)</td>\n",
    "        <td>Total of the fee payed by the Claimant</td>\n",
    "        <td>float64</td>\n",
    "      </tr>\n",
    "      <tr>\n",
    "        <th>32</th>\n",
    "        <td>Adjudicator's fee payable by Respondent (ex GST)</td>\n",
    "        <td>Total of the fee payed by the Respondent</td>\n",
    "        <td>float64</td>\n",
    "      </tr>\n",
    "      <tr>\n",
    "        <th>33</th>\n",
    "        <td>Other Adjudicator fees</td>\n",
    "        <td>Other fees charged by the adjudicator</td>\n",
    "        <td>object</td>\n",
    "      </tr>\n",
    "      <tr>\n",
    "        <th>34</th>\n",
    "        <td>Value of other Adjudicator fees (ex GST)</td>\n",
    "        <td>Total value of the other fees charged by the adjudicator</td>\n",
    "        <td>float64</td>\n",
    "      </tr>\n",
    "      <tr>\n",
    "        <th>35</th>\n",
    "        <td>ANA application fee (ex GST)</td>\n",
    "        <td>Marks wheter if an application fee was charged by the ANA</td>\n",
    "        <td>boolean</td>\n",
    "      </tr>\n",
    "      <tr>\n",
    "        <th>36</th>\n",
    "        <td>Adjudication Certificate issued</td>\n",
    "        <td>Mark if an adjudication certificate had to be Issued</td>\n",
    "        <td>object</td>\n",
    "      </tr>\n",
    "      <tr>\n",
    "        <th>37</th>\n",
    "        <td>Adjudication Certificate fee (ex GST)</td>\n",
    "        <td>Fee of emission of adjudication certificate</td>\n",
    "        <td>float64</td>\n",
    "      </tr>\n",
    "      <tr>\n",
    "        <th>38</th>\n",
    "        <td>Date Adjudication Certificate issued</td>\n",
    "        <td>Date of emission of adjudication certificate</td>\n",
    "        <td>datetime64[ns]</td>\n",
    "      </tr>\n",
    "      <tr>\n",
    "        <th>39</th>\n",
    "        <td>Other ANA fees</td>\n",
    "        <td>Other fees charged by ANA</td>\n",
    "        <td>float64</td>\n",
    "      </tr>\n",
    "      <tr>\n",
    "        <th>40</th>\n",
    "        <td>Value of Other ANA fees (ex GST)</td>\n",
    "        <td>Total value of the other fees charged by ANA</td>\n",
    "        <td>float64</td>\n",
    "      </tr>\n",
    "      <tr>\n",
    "        <th>41</th>\n",
    "        <td>Adjudicator fee charged</td>\n",
    "        <td>Marks wheter if the adjudicator fee was charged by the ANA</td>\n",
    "        <td>object</td>\n",
    "      </tr>\n",
    "      <tr>\n",
    "        <th>42</th>\n",
    "        <td>ANA percentage of Adjudicator fee %</td>\n",
    "        <td>Percent of the adjudicator fee payed to ANA</td>\n",
    "        <td>float64</td>\n",
    "      </tr>\n",
    "      <tr>\n",
    "        <th>43</th>\n",
    "        <td>ANA fee from Adjudicator fee (ex GST)</td>\n",
    "        <td>ANA fee to Adjudicator</td>\n",
    "        <td>float64</td>\n",
    "      </tr>\n",
    "      <tr>\n",
    "        <th>44</th>\n",
    "        <td>Adjudicator share of adjudicator fee - amount</td>\n",
    "        <td>Amount of money paid to adjudicator</td>\n",
    "        <td>float64</td>\n",
    "      </tr>\n",
    "  </tbody>\n",
    "</table>\n",
    "\n",
    "Conventions:\n",
    "- *Building and Construction Industry Security of Payment Act (SOP act)*\n",
    "- *Authorised Nominating Authorities (ANAs)*\n"
   ]
  },
  {
   "attachments": {},
   "cell_type": "markdown",
   "metadata": {},
   "source": [
    "<blockquote style=\"padding: 10px;\">\n",
    "<h3>2.1.1 Relevant fields according metadata</h3>\n",
    "<p style='text-align: justify;'> \n",
    "Here we take the decision to drop variables that cannot add value to the model according the data dictionary: All the variables related to the fees payable to de ANA adjudicators and to ANA itself are not of use in the model since our approach is related to the claimants and responders. \n",
    "\n",
    "<p style='text-align: justify;'> \n",
    "ANA is the Authorised Nominating Authority (ANA) in charge to settle all the disputes arised among claimants and respondents. In this case, ANA nominates an arbitrer in charge to settle the disputes arised in a fast pace based on the SOP act, this to avoid confrontation with lawyers which ultimately would be so expensive for both parties. In the end of the process, ANA and the arbitrer charge some fees to the looser of the dispute to cover the arbitration expenses, these are the variables presented in the next table which we consider are not of use for our approach:</p>"
   ]
  },
  {
   "cell_type": "code",
   "execution_count": null,
   "metadata": {},
   "outputs": [],
   "source": [
    "# First variables to drop\n",
    "to_drop =  [\n",
    "    'Total Adjudicator fee (ex GST)',\n",
    "    \"Adjudicator's fee payable by Claimant %\",\n",
    "    \"Adjudicator's fee payable by Respondent %\",\n",
    "    \"Adjudicator's fee payable by Claimant (ex GST)\",\n",
    "    \"Adjudicator's fee payable by Respondent (ex GST)\",\n",
    "    'Other Adjudicator fees',\n",
    "    'Value of other Adjudicator fees (ex GST)',\n",
    "    'ANA application fee (ex GST)',\n",
    "    'Adjudication Certificate issued',\n",
    "    'Adjudication Certificate fee (ex GST)',\n",
    "    'Date Adjudication Certificate issued',\n",
    "    'Other ANA fees',\n",
    "    'Value of Other ANA fees (ex GST)',\n",
    "    'Adjudicator fee charged',\n",
    "    'ANA percentage of Adjudicator fee %',\n",
    "    'ANA fee from Adjudicator fee (ex GST)',\n",
    "    'Adjudicator share of adjudicator fee - amount'\n",
    "    ]"
   ]
  },
  {
   "attachments": {},
   "cell_type": "markdown",
   "metadata": {},
   "source": [
    "<blockquote style=\"padding: 10px;\">\n",
    "<h2>2.2 Data Quality: Define quality rules</h2>\n",
    "<p style='text-align: justify;'>\n",
    "The first step in the data pipeline previos to proces the dataset, is to define and apply data governance rules over the available data in order ensure data is accurate and usable for analytics purposes. For the reach of the project we will aim to define and apply data governance rules related to <b>data quality</b> specifically to measuring <i>completeness</i> and <i>standatization</i>.\n",
    "</p>\n",
    "\n",
    "<h3>2.2.1 Data completeness</h3>\n",
    "<p style='text-align: justify;'>\n",
    "For the project we have defined a data completeness indicator that measure the proportion of completeness of a specific field, this measure is given by the following formula:\n",
    "</p>\n",
    "\n",
    "$$completeness = {{n\\_not\\_null}\\over{n}}$$\n",
    "\n",
    "$where:$\n",
    "\n",
    "$n$: Total number of registers in the dataset.  \n",
    "$n\\_not\\_null$: Total number of not null values in the dataset.\n",
    "\n",
    "<p style='text-align: justify;'>\n",
    "If the resulting formula for a specific field gives a completeness indicator below 60% and there is not aparent reason in the metadata that backup this low completeness rate, the field must be drop off for the data analysis. \n",
    "</p>"
   ]
  },
  {
   "cell_type": "code",
   "execution_count": null,
   "metadata": {},
   "outputs": [],
   "source": [
    "# Import libraries\n",
    "import pandas as pd\n",
    "from datetime import datetime\n",
    "import numpy as np"
   ]
  },
  {
   "cell_type": "code",
   "execution_count": null,
   "metadata": {},
   "outputs": [
    {
     "name": "stdout",
     "output_type": "stream",
     "text": [
      "Dataset shape: (196, 28)\n"
     ]
    }
   ],
   "source": [
    "# Read dataset\n",
    "df = pd.read_excel('data/Adjudication-Activity-Statistics-2021-2022-Financial-Year.XLSX', sheet_name=0).drop(to_drop, axis=1)\n",
    "\n",
    "# Here we select the data we are gonna work with\n",
    "df= df[df['Determination status'] == 'Determined']\n",
    "\n",
    "# Response variable\n",
    "df = df[df['Adjudicated amount (ex GST)'] != 'Withheld']\n",
    "\n",
    "print('Dataset shape:',df.shape)"
   ]
  },
  {
   "attachments": {},
   "cell_type": "markdown",
   "metadata": {},
   "source": [
    "> Here it is very important to know that as stated in the introductory part, our main goal is to predict the decision status once the dispute was settled by the arbitrers, so in this case, we are only aiming to cases that have been already settled up and create our response variable based on the final outcome, so we must apply two previos steps for it:\n",
    "\n",
    "> 1. We filtered the feature `Determination status` by the `Determined` category which means that the dispute was correctly settled up by an arbitrer, here we are dropping around 38% of total datase. Registers whose in its majority are NaN values due that those disputes were not settled up by an arbitrer.\n",
    "\n",
    "> 2. We dropped the `witheld` values of the variable `Adjudicated amount (ex GST)`. This because this variable is going to be used to create the response, as a binomial variable where amounts adjudicated over 0 are disputes won by the clamant and numbers equals to 0 are disputes won by the respondent. Thus, we do not want any bias in our response variable caused by unknown responses.\n",
    "\n",
    "> Our initial dataset to work on, is constituted by 196 registers divided into 28 initial features."
   ]
  },
  {
   "cell_type": "code",
   "execution_count": null,
   "metadata": {},
   "outputs": [
    {
     "name": "stdout",
     "output_type": "stream",
     "text": [
      "Fields to drop:\n"
     ]
    },
    {
     "data": {
      "text/html": [
       "<div>\n",
       "<style scoped>\n",
       "    .dataframe tbody tr th:only-of-type {\n",
       "        vertical-align: middle;\n",
       "    }\n",
       "\n",
       "    .dataframe tbody tr th {\n",
       "        vertical-align: top;\n",
       "    }\n",
       "\n",
       "    .dataframe thead th {\n",
       "        text-align: right;\n",
       "    }\n",
       "</style>\n",
       "<table border=\"1\" class=\"dataframe\">\n",
       "  <thead>\n",
       "    <tr style=\"text-align: right;\">\n",
       "      <th></th>\n",
       "      <th>column</th>\n",
       "      <th>completeness</th>\n",
       "    </tr>\n",
       "  </thead>\n",
       "  <tbody>\n",
       "    <tr>\n",
       "      <th>19</th>\n",
       "      <td>Reasons if the application is not determined</td>\n",
       "      <td>0.5</td>\n",
       "    </tr>\n",
       "    <tr>\n",
       "      <th>26</th>\n",
       "      <td>Amended determination</td>\n",
       "      <td>39.3</td>\n",
       "    </tr>\n",
       "  </tbody>\n",
       "</table>\n",
       "</div>"
      ],
      "text/plain": [
       "                                          column  completeness\n",
       "19  Reasons if the application is not determined           0.5\n",
       "26                         Amended determination          39.3"
      ]
     },
     "execution_count": 5,
     "metadata": {},
     "output_type": "execute_result"
    }
   ],
   "source": [
    "# Helper function to measure completeness\n",
    "def completeness(df):\n",
    "    df_len = df.shape[0]\n",
    "    comp = (pd.DataFrame([round((1-df[val].isna().sum()/df_len)*100,1) for val in df],\n",
    "        index=df.columns, columns=['completeness'])\n",
    "            .reset_index(names='column')\n",
    "            .sort_values('completeness'))\n",
    "    return comp\n",
    "\n",
    "# Measure of completeness\n",
    "comp = completeness(df)\n",
    "print('Fields to drop:')\n",
    "to_drop_comp = comp[comp['completeness']<60]\n",
    "\n",
    "# Evaluate utility for the model of the fields to drop and exclude of dropping the ones that are useful\n",
    "exclude = ['s21(2B) notice sent to Claimant',  # This field is related to 's21(2B) new reasons provided by Respondent'. For now, we will keep it.\n",
    " 'Respondent advisers',              # The information of this field can be of use, we will keep it for now\n",
    " 'Claimant advisers',                # The information of this field can be of use, we will keep it for now\n",
    " 'Section 18(2) notice issued',      # The information of this field is directly related to our response, thus it can be of use, we will keep it for now\n",
    " 'Amount of Payment Schedule (ex GST)']# The information of this field can be of use, we will keep it for now\n",
    "\n",
    "to_drop_comp = to_drop_comp[~to_drop_comp['column'].isin(exclude)]\n",
    "to_drop_comp"
   ]
  },
  {
   "attachments": {},
   "cell_type": "markdown",
   "metadata": {},
   "source": [
    "> After measure completeness, we found out that there were 7 features that did not met the completeness standards. Thus we decided to go one by one to understand their importance for out approach and decide wether to drop them or not.\n",
    "\n",
    "> Once evaluated the utility for the model of the fields to drop and exclude of dropping the ones that are useful we concluded that:    \n",
    "    - The features `s21(2B) notice sent to Claimant`, `Section 18(2) notice issued` and `Amount of Payment Schedule (ex GST)` give information of the arbitration paths, so given the arbitration path is influenced by these variables we decided to keep them.   \n",
    "    - The features `Respondent advisers` and `Claimant advisers` are directly associated with both parties of the dispute an can be very useful at determining the dispute ouptup, thus we decided to keep it.   "
   ]
  },
  {
   "cell_type": "code",
   "execution_count": null,
   "metadata": {},
   "outputs": [
    {
     "data": {
      "text/html": [
       "<div>\n",
       "<style scoped>\n",
       "    .dataframe tbody tr th:only-of-type {\n",
       "        vertical-align: middle;\n",
       "    }\n",
       "\n",
       "    .dataframe tbody tr th {\n",
       "        vertical-align: top;\n",
       "    }\n",
       "\n",
       "    .dataframe thead th {\n",
       "        text-align: right;\n",
       "    }\n",
       "</style>\n",
       "<table border=\"1\" class=\"dataframe\">\n",
       "  <thead>\n",
       "    <tr style=\"text-align: right;\">\n",
       "      <th></th>\n",
       "      <th>column</th>\n",
       "      <th>completeness</th>\n",
       "    </tr>\n",
       "  </thead>\n",
       "  <tbody>\n",
       "    <tr>\n",
       "      <th>20</th>\n",
       "      <td>s21(2B) notice sent to Claimant</td>\n",
       "      <td>36.2</td>\n",
       "    </tr>\n",
       "    <tr>\n",
       "      <th>16</th>\n",
       "      <td>Respondent advisers</td>\n",
       "      <td>45.4</td>\n",
       "    </tr>\n",
       "    <tr>\n",
       "      <th>13</th>\n",
       "      <td>Claimant advisers</td>\n",
       "      <td>45.9</td>\n",
       "    </tr>\n",
       "    <tr>\n",
       "      <th>10</th>\n",
       "      <td>Section 18(2) notice issued</td>\n",
       "      <td>56.6</td>\n",
       "    </tr>\n",
       "    <tr>\n",
       "      <th>8</th>\n",
       "      <td>Amount of Payment Schedule (ex GST)</td>\n",
       "      <td>57.7</td>\n",
       "    </tr>\n",
       "    <tr>\n",
       "      <th>7</th>\n",
       "      <td>Payment Schedule provision</td>\n",
       "      <td>69.9</td>\n",
       "    </tr>\n",
       "    <tr>\n",
       "      <th>19</th>\n",
       "      <td>s21(2B) new reasons provided by Respondent</td>\n",
       "      <td>82.1</td>\n",
       "    </tr>\n",
       "    <tr>\n",
       "      <th>25</th>\n",
       "      <td>Fee type</td>\n",
       "      <td>91.8</td>\n",
       "    </tr>\n",
       "    <tr>\n",
       "      <th>21</th>\n",
       "      <td>s22(4)(b) extension of time sought</td>\n",
       "      <td>94.4</td>\n",
       "    </tr>\n",
       "    <tr>\n",
       "      <th>22</th>\n",
       "      <td>Determination released</td>\n",
       "      <td>98.5</td>\n",
       "    </tr>\n",
       "    <tr>\n",
       "      <th>23</th>\n",
       "      <td>Determination released date</td>\n",
       "      <td>99.5</td>\n",
       "    </tr>\n",
       "    <tr>\n",
       "      <th>18</th>\n",
       "      <td>Determination completion date</td>\n",
       "      <td>99.5</td>\n",
       "    </tr>\n",
       "    <tr>\n",
       "      <th>17</th>\n",
       "      <td>Determination status</td>\n",
       "      <td>100.0</td>\n",
       "    </tr>\n",
       "    <tr>\n",
       "      <th>15</th>\n",
       "      <td>Business Structure (Respondent)</td>\n",
       "      <td>100.0</td>\n",
       "    </tr>\n",
       "    <tr>\n",
       "      <th>0</th>\n",
       "      <td>No. of App.</td>\n",
       "      <td>100.0</td>\n",
       "    </tr>\n",
       "    <tr>\n",
       "      <th>24</th>\n",
       "      <td>Adjudicated amount (ex GST)</td>\n",
       "      <td>100.0</td>\n",
       "    </tr>\n",
       "    <tr>\n",
       "      <th>11</th>\n",
       "      <td>Business Type/Activity (Claimant)</td>\n",
       "      <td>100.0</td>\n",
       "    </tr>\n",
       "    <tr>\n",
       "      <th>9</th>\n",
       "      <td>Section of Act application made under</td>\n",
       "      <td>100.0</td>\n",
       "    </tr>\n",
       "    <tr>\n",
       "      <th>6</th>\n",
       "      <td>Payment Schedule provided</td>\n",
       "      <td>100.0</td>\n",
       "    </tr>\n",
       "    <tr>\n",
       "      <th>5</th>\n",
       "      <td>Claimed amount (ex GST)</td>\n",
       "      <td>100.0</td>\n",
       "    </tr>\n",
       "    <tr>\n",
       "      <th>4</th>\n",
       "      <td>Project postcode</td>\n",
       "      <td>100.0</td>\n",
       "    </tr>\n",
       "    <tr>\n",
       "      <th>3</th>\n",
       "      <td>Description of project and contract works</td>\n",
       "      <td>100.0</td>\n",
       "    </tr>\n",
       "    <tr>\n",
       "      <th>2</th>\n",
       "      <td>Acceptance date</td>\n",
       "      <td>100.0</td>\n",
       "    </tr>\n",
       "    <tr>\n",
       "      <th>1</th>\n",
       "      <td>Application date</td>\n",
       "      <td>100.0</td>\n",
       "    </tr>\n",
       "    <tr>\n",
       "      <th>14</th>\n",
       "      <td>Business Type/Activity (Respondent)</td>\n",
       "      <td>100.0</td>\n",
       "    </tr>\n",
       "    <tr>\n",
       "      <th>12</th>\n",
       "      <td>Business Structure (Claimant)</td>\n",
       "      <td>100.0</td>\n",
       "    </tr>\n",
       "  </tbody>\n",
       "</table>\n",
       "</div>"
      ],
      "text/plain": [
       "                                        column  completeness\n",
       "20             s21(2B) notice sent to Claimant          36.2\n",
       "16                         Respondent advisers          45.4\n",
       "13                           Claimant advisers          45.9\n",
       "10                 Section 18(2) notice issued          56.6\n",
       "8          Amount of Payment Schedule (ex GST)          57.7\n",
       "7                   Payment Schedule provision          69.9\n",
       "19  s21(2B) new reasons provided by Respondent          82.1\n",
       "25                                    Fee type          91.8\n",
       "21          s22(4)(b) extension of time sought          94.4\n",
       "22                      Determination released          98.5\n",
       "23                 Determination released date          99.5\n",
       "18               Determination completion date          99.5\n",
       "17                        Determination status         100.0\n",
       "15             Business Structure (Respondent)         100.0\n",
       "0                                  No. of App.         100.0\n",
       "24                 Adjudicated amount (ex GST)         100.0\n",
       "11           Business Type/Activity (Claimant)         100.0\n",
       "9        Section of Act application made under         100.0\n",
       "6                    Payment Schedule provided         100.0\n",
       "5                      Claimed amount (ex GST)         100.0\n",
       "4                             Project postcode         100.0\n",
       "3    Description of project and contract works         100.0\n",
       "2                              Acceptance date         100.0\n",
       "1                             Application date         100.0\n",
       "14         Business Type/Activity (Respondent)         100.0\n",
       "12               Business Structure (Claimant)         100.0"
      ]
     },
     "execution_count": 6,
     "metadata": {},
     "output_type": "execute_result"
    }
   ],
   "source": [
    "# Resultant dataset and measure of completeness\n",
    "df_ = df.drop(to_drop_comp['column'].tolist(), axis=1)\n",
    "\n",
    "completeness(df_)"
   ]
  },
  {
   "attachments": {},
   "cell_type": "markdown",
   "metadata": {},
   "source": [
    "<blockquote style=\"padding: 10px;\">\n",
    "<h3>2.2.2 Data schemma</h3>\n",
    "\n",
    "In relation to the governance of the dataset, the dataset features must follow the specific data structure given in the data dictionary, so another important task to do is to transform the data types of each field according the dictionary datatypes <b>given in 2.1.</b>"
   ]
  },
  {
   "cell_type": "code",
   "execution_count": null,
   "metadata": {},
   "outputs": [
    {
     "data": {
      "text/plain": [
       "No. of App.                                           object\n",
       "Application date                              datetime64[ns]\n",
       "Acceptance date                               datetime64[ns]\n",
       "Description of project and contract works             object\n",
       "Project postcode                                      object\n",
       "Claimed amount (ex GST)                              float64\n",
       "Payment Schedule provided                             object\n",
       "Payment Schedule provision                            object\n",
       "Amount of Payment Schedule (ex GST)                  float64\n",
       "Section of Act application made under                 object\n",
       "Section 18(2) notice issued                           object\n",
       "Business Type/Activity (Claimant)                     object\n",
       "Business Structure (Claimant)                         object\n",
       "Claimant advisers                                     object\n",
       "Business Type/Activity (Respondent)                   object\n",
       "Business Structure (Respondent)                       object\n",
       "Respondent advisers                                   object\n",
       "Determination status                                  object\n",
       "Determination completion date                 datetime64[ns]\n",
       "s21(2B) new reasons provided by Respondent            object\n",
       "s21(2B) notice sent to Claimant                       object\n",
       "s22(4)(b) extension of time sought                    object\n",
       "Determination released                                object\n",
       "Determination released date                   datetime64[ns]\n",
       "Adjudicated amount (ex GST)                          float64\n",
       "Fee type                                              object\n",
       "dtype: object"
      ]
     },
     "execution_count": 7,
     "metadata": {},
     "output_type": "execute_result"
    }
   ],
   "source": [
    "# Data schema acording data dictionary\n",
    "dtypes_ = {'No. of App.':'object',\n",
    " 'Application date':'datetime64[ns]',\n",
    " 'Acceptance date':'datetime64[ns]',\n",
    " 'Description of project and contract works':'object',\n",
    " 'Project postcode':'object',\n",
    " 'Claimed amount (ex GST)':'float64',\n",
    " 'Payment Schedule provided':'object',\n",
    " 'Payment Schedule provision':'object',\n",
    " 'Amount of Payment Schedule (ex GST)':'float64',\n",
    " 'Section of Act application made under':'object',\n",
    " 'Section 18(2) notice issued':'object',\n",
    " 'Business Type/Activity (Claimant)':'object',\n",
    " 'Business Structure (Claimant)':'object',\n",
    " 'Claimant advisers':'object',\n",
    " 'Business Type/Activity (Respondent)':'object',\n",
    " 'Business Structure (Respondent)':'object',\n",
    " 'Respondent advisers':'object',\n",
    " 'Determination status':'object',\n",
    " 'Determination completion date':'object',\n",
    " 's21(2B) new reasons provided by Respondent':'object',\n",
    " 's21(2B) notice sent to Claimant':'object',\n",
    " 's22(4)(b) extension of time sought':'object',\n",
    " 'Determination released':'object',\n",
    " 'Determination released date':'object',\n",
    " 'Adjudicated amount (ex GST)':'float64',\n",
    " 'Fee type':'object'\n",
    "}\n",
    "\n",
    "# Modify float variables to follow schema\n",
    "df_['Amount of Payment Schedule (ex GST)'] = df_['Amount of Payment Schedule (ex GST)'].replace('\\D+', '0', regex=True).astype(float)\n",
    "df_['Adjudicated amount (ex GST)'] = df_['Adjudicated amount (ex GST)'].replace('\\D+', '0', regex=True).astype(float)\n",
    "df_['Claimed amount (ex GST)'] = df_['Claimed amount (ex GST)'].replace('\\D+', '0', regex=True).astype(float)\n",
    "\n",
    "# Replace datatypes\n",
    "for val in df_:\n",
    "    d_type = dtypes_[val]\n",
    "    df_[val] = df_[val].astype(d_type)\n",
    "\n",
    "# Datetime fields\n",
    "df_['Determination released date'] = pd.to_datetime(df_['Determination released date'], format='%Y-%m-%d', errors='coerce')\n",
    "df_['Determination released date'] = df_['Determination released date'].replace({pd.NaT: np.nan})\n",
    "df_['Determination completion date'] = pd.to_datetime(df_['Determination completion date'], format='%Y-%m-%d', errors='coerce')\n",
    "df_['Determination completion date'] = df_['Determination completion date'].replace({pd.NaT: np.nan})\n",
    "\n",
    "df_.dtypes"
   ]
  },
  {
   "attachments": {},
   "cell_type": "markdown",
   "metadata": {},
   "source": [
    "<blockquote style=\"padding: 10px;\">\n",
    "<h3>2.2.3 Data standatization</h3>\n",
    "<p style='text-align: justify;'>\n",
    " In addition general standards must be follow according the data type of the field: \n",
    "</p>\n",
    "\n",
    "$float64$: For int fields the data must not contain neither float nor empty values, the outliers must be treted carefully dropping the points that largely pass the define space set in:\n",
    "\n",
    "$Outliers:$\n",
    "\n",
    "$$Min = Q1 - {{1.5 * ICR}}$$\n",
    "\n",
    "$where:$\n",
    "\n",
    "$ICR$: Interquartile range.  \n",
    "$Min$: Minimum aceptable integer value.  \n",
    "$Max$: Maximum aceptable integer value."
   ]
  },
  {
   "cell_type": "code",
   "execution_count": null,
   "metadata": {},
   "outputs": [],
   "source": [
    "def convert_positive_float(df_):\n",
    "    for column in df_.select_dtypes(include='float64'):\n",
    "        df_[column] = df_[column].replace('\\D+', np.nan, regex=True).astype(float) # Here we shod not do imputation but standarization\n",
    "        df_[column] = df_[column].apply(lambda x: abs(round(x, 2)))\n",
    "#     return df_\n",
    "convert_positive_float(df_)"
   ]
  },
  {
   "attachments": {},
   "cell_type": "markdown",
   "metadata": {},
   "source": [
    "\n",
    "> $Object$ : \n",
    "    <p style='text-align: justify;'>\n",
    "    This category involves all the possible string values in the dataset, thus here we are counting $booleans$ and $objects$, here the main objective is to standarize the strings to be in the same format previous to processing, this way as we do not have any refference list to homologate these values, the only step we apply over the string values is to lowercase the data.\n",
    "    </p>"
   ]
  },
  {
   "cell_type": "code",
   "execution_count": null,
   "metadata": {},
   "outputs": [],
   "source": [
    "def convert_string_to_lowercase(df_):\n",
    "    for column in df_.select_dtypes(include='object'):\n",
    "        df_[column] = df_[column].astype(str).str.lower()\n",
    "        df_[column] = df_[column].replace('nan', np.nan, regex=True)\n",
    "#     return df_\n",
    "\n",
    "convert_string_to_lowercase(df_)"
   ]
  },
  {
   "attachments": {},
   "cell_type": "markdown",
   "metadata": {},
   "source": [
    "> $Datetime$ : \n",
    "    <p style='text-align: justify;'>\n",
    "    For the Datetime datetypes rules we decided to evaluate the dates intervale in a way that there were not dates previous or after the sample given in the dataset, this would be, dates between <i>2021-01-01</i> and <i>2022-12-31</i>.\n",
    "    </p>\n"
   ]
  },
  {
   "cell_type": "code",
   "execution_count": null,
   "metadata": {},
   "outputs": [],
   "source": [
    "def check_date_validity(df, date_column):\n",
    "    error_rows = []\n",
    "\n",
    "    for index, row in df.iterrows():\n",
    "        date_value = row[date_column]\n",
    "\n",
    "        if pd.notnull(date_value):\n",
    "            if pd.to_datetime('2021-01-01') <= date_value <= pd.to_datetime('2022-12-31'):\n",
    "                continue\n",
    "            else:\n",
    "                error_rows.append(index)\n",
    "\n",
    "    if error_rows:\n",
    "        error_df = df.loc[error_rows]\n",
    "        return error_df\n",
    "    else:\n",
    "        return None\n",
    "\n",
    "check_date_validity(df_, 'Determination completion date')"
   ]
  },
  {
   "attachments": {},
   "cell_type": "markdown",
   "metadata": {},
   "source": [
    "<span style=\"color:gold\"> **LIAM & BANGIRI IMPUTATION**  </span>\n",
    "\n",
    "2.3 Imputation: Define imputation rules\n",
    "\n",
    "The dataset contains both numerical and categorical variables. In this study, the missing value of categorical data are simply treated as <b>no_info</b>. On the other hand, the <b>Multiple Imputation by Chained Equations (MICE)</b> is used to fill in missing value. This algorithm to address the imputation based on the following facts:\n",
    "\n",
    "$a)$ MICE is a statistical technoque for dealing with missing value. The first step is to fill in the missing values with a simple imputation method, such as mean, median or mode.\n",
    "\n",
    "$b)$ Iteration: To deal with missing value, the MICE fits a predictive moding using the other variables (except the response variable). After that, useing predictive model to predicts missing value. In this step, here are important feature of MICE should be mentioned. Mice adds a random components to there predictions. That's why imputation process is stochastic rather than deterministic. Then above step would repeat for each varable which has missing data.\n",
    "\n",
    "$c)$ After repeat doing above step, when the imputed value become to converge, which means stable. MICE would stop.\n",
    "\n",
    "\n",
    "2.3.1 Apply data imputation Rules "
   ]
  },
  {
   "cell_type": "code",
   "execution_count": null,
   "metadata": {},
   "outputs": [],
   "source": [
    "from sklearn.experimental import enable_iterative_imputer\n",
    "from sklearn.impute import IterativeImputer\n",
    "\n",
    "# Apply MICE imputation\n",
    "df_temp = df_['Adjudicated amount (ex GST)']\n",
    "df_drop = df_.drop('Adjudicated amount (ex GST)', axis=1)\n",
    "cols_list = df_drop.select_dtypes(include=[np.number]).columns.tolist()\n",
    "mice_imp = IterativeImputer(max_iter=10, random_state=0)\n",
    "df_drop[cols_list] = mice_imp.fit_transform(df_drop[cols_list])\n",
    "\n",
    "# Categorical data Imputation\n",
    "df_ = pd.concat([df_drop, df_temp], axis = 1)\n",
    "\n",
    "for val in df_.select_dtypes(include='object'):\n",
    "    df_[val] = df_[val].fillna('no_info')\n",
    "\n",
    "for val in df_.select_dtypes(include='object'):\n",
    "    df_[val] = df_[val].replace('not known','no_info')\n",
    "\n",
    "# Datetime imputation replace for the process you have setup\n",
    "for val in df_.select_dtypes(include='datetime64[ns]'):\n",
    "    df_[val] = df_[val].fillna(0)\n",
    "\n",
    "# Testing (Don't comment this line), if the data is correctly imputed, no NA values the assertion should not cause an error \n",
    "assert 0 == df_.isna().sum(axis=0).sum()"
   ]
  },
  {
   "attachments": {},
   "cell_type": "markdown",
   "metadata": {},
   "source": [
    "## **3. Data Processing**  \n",
    "<span style=\"color:ORANGE\"> **BANGIRI, LIAM, OJAS EDA**  \n",
    "3.1 Exploratory Data Analysis (EDA)  \n",
    "*Note: If you are not familiar with the term EDA, you can do some research in google about the topic, and in https://www.kaggle.com/ you can find notebooks other people have done regarding EDA.\n",
    "</span>\n"
   ]
  },
  {
   "cell_type": "code",
   "execution_count": null,
   "metadata": {},
   "outputs": [],
   "source": [
    "# dates - Liam\n",
    "# float (Pearson Corr) - Ojas\n",
    "# Project postcode (To Neighbourhoods) - Liam\n",
    "# Plots (Categorical) - Ojas (Pies)\n",
    "# Plots (Numerical) - Bangiri (Freq., boxplots...)"
   ]
  },
  {
   "attachments": {},
   "cell_type": "markdown",
   "metadata": {},
   "source": [
    "<p style='text-align: justify;'>\n",
    "<h3>The first step to deal with 'Description of project and contract works' is to do the text preprocess.</h3>\n",
    "\n",
    "> Here are the process.(not indeed in report)\n",
    " - 1 Normalize all page text to its NFKD form.\n",
    " - 2 Convert all non-alphabetic characters (for example, numbers, apostrophes and punctuation), except for spacing characters (for example, whitespaces, tabs and newlines) and the backslash character ('\\') to single-space characters. For example, '&' should be converted to ' '. You should consider non-English alphabetic characters as non-alphabetic for the purposes of this conversion.\n",
    " - 3 Convert all spacing characters such as tabs and newlines into single-space characters, and ensure that only one whitespace character exists between each token.\n",
    " - 4 The text should then be converted to explicit tokens. This process should use single-space characters as the boundary between tokens. \n",
    " - 5 Remove all stop words in nltk’s list of English stop words from the tokens in the page text.\n",
    " - 6 Remove all remaining tokens that are less than two characters long from the page text.\n",
    " - 7 Each token should then be converted to its Porter stemming algorithm stemmed form. This should use all the default improvements present in the NLTK PorterStemmer (including both the additional improvements beyond the original algorithm and NLTK's improvements).</p>"
   ]
  },
  {
   "cell_type": "code",
   "execution_count": null,
   "metadata": {},
   "outputs": [
    {
     "name": "stderr",
     "output_type": "stream",
     "text": [
      "[nltk_data] Downloading package stopwords to\n",
      "[nltk_data]     /Users/andresg/nltk_data...\n",
      "[nltk_data]   Package stopwords is already up-to-date!\n"
     ]
    }
   ],
   "source": [
    "## Bag of words and vectorisation\n",
    "import re\n",
    "import nltk\n",
    "nltk.download('stopwords')\n",
    "import unicodedata\n",
    "from nltk.corpus import stopwords\n",
    "from nltk.stem.porter import PorterStemmer\n",
    "from sklearn.feature_extraction.text import CountVectorizer\n",
    "from sklearn.cluster import KMeans\n",
    "import matplotlib.pyplot as plt"
   ]
  },
  {
   "cell_type": "code",
   "execution_count": null,
   "metadata": {},
   "outputs": [
    {
     "data": {
      "image/png": "[encoded data removed]",
      "text/plain": [
       "<Figure size 640x480 with 1 Axes>"
      ]
     },
     "metadata": {},
     "output_type": "display_data"
    }
   ],
   "source": [
    "## text preprossing\n",
    "def text_preprocess(doc):\n",
    "    doc = unicodedata.normalize('NFKD', doc)\n",
    "    doc = re.sub(r'[^A-Za-z\\s\\\\]',' ', doc)\n",
    "    doc = re.sub(r'\\s+', ' ', doc)\n",
    "    tokens = doc.split(' ')\n",
    "    stop_words = set(stopwords.words('english'))\n",
    "    tokens = [w for w in tokens if not w in stop_words and len(w) > 1]\n",
    "    porterstemmer = PorterStemmer()\n",
    "    stemmed = [porterstemmer.stem(w) for w in tokens]\n",
    "    return ' '.join(stemmed)\n",
    "\n",
    "##Replace proceed text\n",
    "df_['Description of project and contract works'] = df_['Description of project and contract works'].apply(lambda doc:text_preprocess(str(doc)) )\n",
    "##Vectorising\n",
    "vectorizer = CountVectorizer()\n",
    "X = vectorizer.fit_transform(df_['Description of project and contract works'])\n",
    "\n",
    "#Select number of clusters\n",
    "labels_select = []\n",
    "for k in range(1 ,10):\n",
    "    kmeans_temp = KMeans(n_init='auto' , n_clusters = k, random_state = 535).fit(X)\n",
    "    labels_select.append(kmeans_temp.inertia_)\n",
    "\n",
    "plt.plot(range(1,10), labels_select, 'bx-')\n",
    "plt.xlabel('number of clusters')\n",
    "plt.ylabel('WCSS')\n",
    "plt.title('The elbow method')\n",
    "plt.show()"
   ]
  },
  {
   "cell_type": "code",
   "execution_count": null,
   "metadata": {},
   "outputs": [],
   "source": [
    "## Add optimal number of clusters\n",
    "kmeans = KMeans(n_init='auto', n_clusters = 6, random_state = 535).fit(X)\n",
    "labels_list = kmeans.labels_\n",
    "df_['Description label'] = labels_list"
   ]
  },
  {
   "attachments": {},
   "cell_type": "markdown",
   "metadata": {},
   "source": [
    "<h2> <span style=\"color:ORANGE\"> <b>LIAM</b> \n",
    "<p>one thing in here, you should put a filter, to process different or not process the values that were inputed for Nan of the 'datetime64[ns]' which were 0\n",
    "<p>And for the graphs I recommend you to plot one by cell to analze them in different spaces. It is more clean for the viewer.</b>"
   ]
  },
  {
   "cell_type": "code",
   "execution_count": null,
   "metadata": {},
   "outputs": [
    {
     "data": {
      "image/png": "[encoded data removed]",
      "text/plain": [
       "<Figure size 1000x600 with 1 Axes>"
      ]
     },
     "metadata": {},
     "output_type": "display_data"
    },
    {
     "data": {
      "image/png": "[encoded data removed]",
      "text/plain": [
       "<Figure size 1000x600 with 1 Axes>"
      ]
     },
     "metadata": {},
     "output_type": "display_data"
    },
    {
     "data": {
      "image/png": "[encoded data removed]",
      "text/plain": [
       "<Figure size 1000x600 with 1 Axes>"
      ]
     },
     "metadata": {},
     "output_type": "display_data"
    }
   ],
   "source": [
    "import matplotlib.pyplot as plt\n",
    "\n",
    "# Convert \"Application date\" column to datetime format and extract day, month, and year\n",
    "df_['Acceptance date'] = pd.to_datetime(df_['Acceptance date'])\n",
    "df_['Day'] = df_['Acceptance date'].dt.day\n",
    "df_['Month'] = df_['Acceptance date'].dt.month\n",
    "df_['Year'] = df_['Acceptance date'].dt.year\n",
    "\n",
    "# Split \"Adjudicated amount (ex GST)\" into two groups: zero and non-zero\n",
    "df_['Amount Group'] = df_['Adjudicated amount (ex GST)'].apply(lambda x: 'Zero' if x == 0 else 'Non-Zero')\n",
    "\n",
    "# Group by day and calculate the proportion of zeros\n",
    "grouped_day = df_.groupby(['Day', 'Amount Group']).size().unstack().fillna(0)\n",
    "grouped_day['Zero Proportion'] = grouped_day['Zero'] / (grouped_day['Zero'] + grouped_day['Non-Zero'])\n",
    "\n",
    "# Group by month and calculate the proportion of zeros\n",
    "grouped_month = df_.groupby(['Month', 'Amount Group']).size().unstack().fillna(0)\n",
    "grouped_month['Zero Proportion'] = grouped_month['Zero'] / (grouped_month['Zero'] + grouped_month['Non-Zero'])\n",
    "\n",
    "# Group by year and calculate the proportion of zeros\n",
    "grouped_year = df_.groupby(['Year', 'Amount Group']).size().unstack().fillna(0)\n",
    "grouped_year['Zero Proportion'] = grouped_year['Zero'] / (grouped_year['Zero'] + grouped_year['Non-Zero'])\n",
    "\n",
    "# Plot for day\n",
    "plt.figure(figsize=(10, 6))\n",
    "grouped_day['Zero Proportion'].plot(kind='bar')\n",
    "plt.xlabel('Day')\n",
    "plt.ylabel('Proportion')\n",
    "plt.title('Proportion of Zero Amounts by Day')\n",
    "plt.xticks(rotation=0)\n",
    "plt.show()\n",
    "\n",
    "# Plot for month\n",
    "plt.figure(figsize=(10, 6))\n",
    "grouped_month['Zero Proportion'].plot(kind='bar')\n",
    "plt.xlabel('Month')\n",
    "plt.ylabel('Proportion')\n",
    "plt.title('Proportion of Zero Amounts by Month')\n",
    "plt.xticks(rotation=0)\n",
    "plt.show()\n",
    "\n",
    "# Plot for year\n",
    "plt.figure(figsize=(10, 6))\n",
    "grouped_year['Zero Proportion'].plot(kind='bar')\n",
    "plt.xlabel('Year')\n",
    "plt.ylabel('Proportion')\n",
    "plt.title('Proportion of Zero Amounts by Year')\n",
    "plt.xticks(rotation=0)\n",
    "plt.show()\n",
    "\n",
    "# Drop the 'Day', 'Month', 'Year' column and 'Amount Group'\n",
    "cols_to_drop = ['Day', 'Month', 'Year', 'Amount Group']\n",
    "df_ = df_.drop(cols_to_drop, axis=1)\n",
    "\n"
   ]
  },
  {
   "attachments": {},
   "cell_type": "markdown",
   "metadata": {},
   "source": [
    "\n",
    "Based on the plots, we can reasonably assume that the year and day of the \"Acceptance date\" have no significant correlation with the target variable. Therefore, we will select the month as a feature.\n",
    "\n",
    "Compared to the \"Arbitration Application date,\" we are more interested in the \"Arbitration Acceptance date.\" From observation, these two dates have an average difference of within 5 days (likely due to a few working days required between application and processing). Hence, we will only consider the \"Acceptance date\" and drop the \"Application date\".\n",
    "\n",
    "\n",
    "Similarly, we are more interested in the \"Determination completion date\" and will drop the \"Determination released date\" and \"Determination released\".\n",
    "\n",
    "Next, we will select the \"Determination completion date\" and the \"Arbitration Acceptance date\" and calculate the time difference between them as a new feature. This time difference represents the duration of the arbitration process.\n",
    "\n",
    "In summary, we will use the month of the \"Arbitration Acceptance date\" and the time difference as two new features, replacing the original four date columns."
   ]
  },
  {
   "cell_type": "code",
   "execution_count": null,
   "metadata": {},
   "outputs": [],
   "source": [
    "# Convert columns to datetime format\n",
    "df_['Determination completion date'] = pd.to_datetime(df_['Determination completion date'])\n",
    "df_['Acceptance date'] = pd.to_datetime(df_['Acceptance date'])\n",
    "\n",
    "# Calculate the duration in days\n",
    "df_['Arbitration Duration'] = (df_['Determination completion date'] - df_['Acceptance date']).dt.days\n",
    "\n",
    "# Drop the original date columns and create new related features\n",
    "df_['Month of Acceptance Date'] = df_['Acceptance date'].dt.month\n",
    "cols_to_drop = ['Application date', 'Acceptance date', 'Determination completion date','Determination released date', 'Determination released']\n",
    "df_ = df_.drop(cols_to_drop, axis=1)"
   ]
  },
  {
   "attachments": {},
   "cell_type": "markdown",
   "metadata": {},
   "source": [
    "We will perform cluster analysis using the K-means algorithm on the 'Project postcode' column and plot the Within-Cluster Sum of Squares (WCSS) for different numbers of clusters. This will help us use the \"elbow\" principle to identify the most suitable number of clusters."
   ]
  },
  {
   "cell_type": "code",
   "execution_count": null,
   "metadata": {},
   "outputs": [
    {
     "data": {
      "image/png": "[encoded data removed]",
      "text/plain": [
       "<Figure size 640x480 with 1 Axes>"
      ]
     },
     "metadata": {},
     "output_type": "display_data"
    }
   ],
   "source": [
    "from sklearn.cluster import KMeans\n",
    "\n",
    "# Extract the 'Project postcode' column as a separate dataframe\n",
    "postcode_data = df_['Project postcode'].to_frame()\n",
    "\n",
    "# Convert the 'Project postcode' column to numerical representation\n",
    "postcode_data['Project postcode'] = postcode_data['Project postcode'].astype('category').cat.codes\n",
    "\n",
    "# Define the range of cluster numbers to try\n",
    "cluster_range = list(range(2, 11))\n",
    "inertia_values = []\n",
    "\n",
    "# Perform clustering for different numbers of clusters and calculate inertia\n",
    "for n_clusters in cluster_range:\n",
    "    kmeans = KMeans(n_init='auto', n_clusters=n_clusters)\n",
    "    kmeans.fit(postcode_data)\n",
    "    inertia_values.append(kmeans.inertia_)\n",
    "\n",
    "# Plot the inertia values to determine the appropriate number of clusters\n",
    "plt.plot(cluster_range, inertia_values, marker='o')\n",
    "plt.xlabel('Number of Clusters')\n",
    "plt.ylabel('WCSS')\n",
    "plt.title('Elbow Method for Optimal Cluster Number')\n",
    "plt.show()"
   ]
  },
  {
   "attachments": {},
   "cell_type": "markdown",
   "metadata": {},
   "source": [
    "According to the plot, we can see 5 would be a good choice, and the number will be used next to transform the 'Project postcode' to catergorical variables."
   ]
  },
  {
   "cell_type": "code",
   "execution_count": null,
   "metadata": {},
   "outputs": [],
   "source": [
    "# Set the chosen number of clusters\n",
    "num_clusters = 5\n",
    "\n",
    "# Extract the 'Project postcode' column as a separate dataframe\n",
    "postcode_data = df_['Project postcode'].to_frame()\n",
    "\n",
    "# Convert the 'Project postcode' column to numerical representation\n",
    "postcode_data['Project postcode'] = postcode_data['Project postcode'].astype('category').cat.codes\n",
    "\n",
    "# Apply K-means clustering with the chosen number of clusters\n",
    "kmeans = KMeans(n_init='auto', n_clusters=num_clusters)\n",
    "kmeans.fit(postcode_data)\n",
    "\n",
    "# Assign cluster labels to each data point\n",
    "cluster_labels = kmeans.labels_\n",
    "\n",
    "# Convert the cluster labels to categorical variables\n",
    "postcode_data['Cluster of postcode'] = pd.Categorical(cluster_labels)\n",
    "\n",
    "\n",
    "# Concatenate the transformed 'Project postcode' column back to the original dataframe\n",
    "df_ = pd.concat([df_, postcode_data], axis=1)\n",
    "\n",
    "# Drop the original numerical representation of 'Project postcode'\n",
    "df_ = df_.drop('Project postcode', axis=1)"
   ]
  },
  {
   "cell_type": "code",
   "execution_count": null,
   "metadata": {},
   "outputs": [],
   "source": [
    "df_['Description label'] = df_['Description label'].astype(object)\n",
    "df_['Month of Acceptance Date'] = df_['Month of Acceptance Date'].astype(object)\n",
    "df_['Cluster of postcode'] = df_['Cluster of postcode'].astype(object)"
   ]
  },
  {
   "attachments": {},
   "cell_type": "markdown",
   "metadata": {},
   "source": [
    "<h1><span style=\"color:purple\"> **bangiri**  \n",
    "3.1.3 Categorical Variables relationship & plot</h1>\n",
    "\n",
    "\n",
    "<h1><span style=\"color:orange\"> **bangiri**  \n",
    "Bangiri, here the same as Liam, it would be Nice I you could separate the graphs and conclude on them separately in order to have better insights. The most important part at this point is not to create the views but to interprete them\n",
    " </span> </h1>"
   ]
  },
  {
   "cell_type": "code",
   "execution_count": null,
   "metadata": {},
   "outputs": [],
   "source": [
    "##Chi-square test of Independence\n",
    "from scipy.stats import chi2_contingency"
   ]
  },
  {
   "cell_type": "code",
   "execution_count": null,
   "metadata": {},
   "outputs": [
    {
     "data": {
      "text/html": [
       "<div>\n",
       "<style scoped>\n",
       "    .dataframe tbody tr th:only-of-type {\n",
       "        vertical-align: middle;\n",
       "    }\n",
       "\n",
       "    .dataframe tbody tr th {\n",
       "        vertical-align: top;\n",
       "    }\n",
       "\n",
       "    .dataframe thead th {\n",
       "        text-align: right;\n",
       "    }\n",
       "</style>\n",
       "<table border=\"1\" class=\"dataframe\">\n",
       "  <thead>\n",
       "    <tr style=\"text-align: right;\">\n",
       "      <th></th>\n",
       "      <th>No. of App.</th>\n",
       "      <th>Description of project and contract works</th>\n",
       "      <th>Payment Schedule provided</th>\n",
       "      <th>Payment Schedule provision</th>\n",
       "      <th>Section of Act application made under</th>\n",
       "      <th>Section 18(2) notice issued</th>\n",
       "      <th>Business Type/Activity (Claimant)</th>\n",
       "      <th>Business Structure (Claimant)</th>\n",
       "      <th>Claimant advisers</th>\n",
       "      <th>Business Type/Activity (Respondent)</th>\n",
       "      <th>Business Structure (Respondent)</th>\n",
       "      <th>Respondent advisers</th>\n",
       "      <th>Determination status</th>\n",
       "      <th>s21(2B) new reasons provided by Respondent</th>\n",
       "      <th>s21(2B) notice sent to Claimant</th>\n",
       "      <th>s22(4)(b) extension of time sought</th>\n",
       "      <th>Fee type</th>\n",
       "      <th>Description label</th>\n",
       "      <th>Month of Acceptance Date</th>\n",
       "      <th>Cluster of postcode</th>\n",
       "    </tr>\n",
       "  </thead>\n",
       "  <tbody>\n",
       "    <tr>\n",
       "      <th>response</th>\n",
       "      <td>0.466408</td>\n",
       "      <td>0.024143</td>\n",
       "      <td>0.256411</td>\n",
       "      <td>0.20819</td>\n",
       "      <td>0.290001</td>\n",
       "      <td>0.448962</td>\n",
       "      <td>0.070495</td>\n",
       "      <td>0.299076</td>\n",
       "      <td>0.00001</td>\n",
       "      <td>0.003801</td>\n",
       "      <td>0.807384</td>\n",
       "      <td>0.2049</td>\n",
       "      <td>1.0</td>\n",
       "      <td>0.001204</td>\n",
       "      <td>0.039432</td>\n",
       "      <td>0.178446</td>\n",
       "      <td>0.0</td>\n",
       "      <td>0.175652</td>\n",
       "      <td>0.047771</td>\n",
       "      <td>0.514406</td>\n",
       "    </tr>\n",
       "  </tbody>\n",
       "</table>\n",
       "</div>"
      ],
      "text/plain": [
       "         No. of App. Description of project and contract works   \n",
       "response    0.466408                                  0.024143  \\\n",
       "\n",
       "         Payment Schedule provided Payment Schedule provision   \n",
       "response                  0.256411                    0.20819  \\\n",
       "\n",
       "         Section of Act application made under Section 18(2) notice issued   \n",
       "response                              0.290001                    0.448962  \\\n",
       "\n",
       "         Business Type/Activity (Claimant) Business Structure (Claimant)   \n",
       "response                          0.070495                      0.299076  \\\n",
       "\n",
       "         Claimant advisers Business Type/Activity (Respondent)   \n",
       "response           0.00001                            0.003801  \\\n",
       "\n",
       "         Business Structure (Respondent) Respondent advisers   \n",
       "response                        0.807384              0.2049  \\\n",
       "\n",
       "         Determination status s21(2B) new reasons provided by Respondent   \n",
       "response                  1.0                                   0.001204  \\\n",
       "\n",
       "         s21(2B) notice sent to Claimant s22(4)(b) extension of time sought   \n",
       "response                        0.039432                           0.178446  \\\n",
       "\n",
       "         Fee type Description label Month of Acceptance Date   \n",
       "response      0.0          0.175652                 0.047771  \\\n",
       "\n",
       "         Cluster of postcode  \n",
       "response            0.514406  "
      ]
     },
     "execution_count": 22,
     "metadata": {},
     "output_type": "execute_result"
    }
   ],
   "source": [
    "cat = df_.select_dtypes(include='object')\n",
    "\n",
    "y = df_['Adjudicated amount (ex GST)'].apply(lambda x: 1 if x == 0.00\n",
    "                                                else 0 if x > 0.00\n",
    "                                                else None)\n",
    "\n",
    "p_val_list = pd.DataFrame(index = ['response'], columns = cat.columns)\n",
    "\n",
    "for column in cat.columns:\n",
    "    cont_table = pd.crosstab(y,cat[column])\n",
    "    stat_val, p_val, dof, expected = chi2_contingency(cont_table)\n",
    "    p_val_list.loc['response',column] = p_val\n",
    "\n",
    "p_val_list\n",
    "## p-value of Business Structure(Respondent) > 0.05, \n",
    "##cannot reject the null hypothesis of independece and conduct that\n",
    "#  the relationship between response and business structure is not significant at 0.05 significance level."
   ]
  },
  {
   "cell_type": "code",
   "execution_count": null,
   "metadata": {},
   "outputs": [],
   "source": [
    "import seaborn as sns"
   ]
  },
  {
   "cell_type": "code",
   "execution_count": null,
   "metadata": {},
   "outputs": [
    {
     "ename": "",
     "evalue": "",
     "output_type": "error",
     "traceback": [
      "\u001b[1;31mThe kernel failed to start as the Python Environment 'venv' is no longer available. Consider selecting another kernel or refreshing the list of Python Environments."
     ]
    }
   ],
   "source": [
    "plt.figure(figsize = (10,8))\n",
    "cont_table1 = pd.crosstab(cat['Claimant advisers'], y)\n",
    "sns.heatmap(cont_table1, annot = True, fmt = 'd', cmap = 'coolwarm')\n",
    "plt.title('Heatmap of contingence table of Claimant advisers against Adjudicated amount (ex GST)')\n",
    "plt.show()\n",
    "    "
   ]
  },
  {
   "attachments": {},
   "cell_type": "markdown",
   "metadata": {},
   "source": [
    "<blockquote style=\"padding: 10px;\">\n",
    "<h2>3.2 Preprocessing </h2> \n",
    "Once we have cleaned our dataset, imputed missing values, and analysed it to understand particularities on it and to do some feature engineering, we are ready to start modelling with our resulting data. For so, the first thing to do is to transform the categorical and numerical variables into a standardised numerical scheme for the features on order to impute the data in Machine Learning models. This must be done in the categorical variables to transform its notation to numerical notations due that these algorithms only work on numerical matrices, and in the case of numerical variables, it is not necessary to always standardise them, but to do so, sometimes presents benefits specially when the applied models are susceptible to extreme values (outliers)."
   ]
  },
  {
   "cell_type": "code",
   "execution_count": null,
   "metadata": {},
   "outputs": [],
   "source": [
    "# Dataframe to model with\n",
    "X = df_.drop(['No. of App.', 'Description of project and contract works', 'Adjudicated amount (ex GST)'], axis=1)\n",
    "\n",
    "# Response variable\n",
    "y = df_['Adjudicated amount (ex GST)'].apply(lambda x: 1 if x == 0.00\n",
    "                                                else 0 if x > 0.00\n",
    "                                                else None)"
   ]
  },
  {
   "attachments": {},
   "cell_type": "markdown",
   "metadata": {},
   "source": [
    "> Here we defined the dataframe we are going to model with and the response variable"
   ]
  },
  {
   "attachments": {},
   "cell_type": "markdown",
   "metadata": {},
   "source": [
    "<blockquote style=\"padding: 10px;\">\n",
    "<h3>3.2.1 Numerical Variables</h3>\n",
    "\n",
    "For the standardisation process we applied the `StandardScaler` where the data is centred by removing the mean value of each feature and then scale it by dividing by its standard deviation as follows:\n",
    "\n",
    "$z = (x - u) / s$\n",
    "\n",
    "This transformation is used to avoid some modelling problems, the most important of them is specified in the sklearn documentation:\n",
    "\n",
    "> \"If a feature has a variance that is orders of magnitude larger than others, it might dominate the objective function and make the estimator unable to learn from other features correctly as expected\".   \n",
    "Source: https://scikit-learn.org/stable/modules/preprocessing.html#preprocessing-scaler"
   ]
  },
  {
   "cell_type": "code",
   "execution_count": null,
   "metadata": {},
   "outputs": [
    {
     "data": {
      "text/html": [
       "<div>\n",
       "<style scoped>\n",
       "    .dataframe tbody tr th:only-of-type {\n",
       "        vertical-align: middle;\n",
       "    }\n",
       "\n",
       "    .dataframe tbody tr th {\n",
       "        vertical-align: top;\n",
       "    }\n",
       "\n",
       "    .dataframe thead th {\n",
       "        text-align: right;\n",
       "    }\n",
       "</style>\n",
       "<table border=\"1\" class=\"dataframe\">\n",
       "  <thead>\n",
       "    <tr style=\"text-align: right;\">\n",
       "      <th></th>\n",
       "      <th>Claimed amount (ex GST)</th>\n",
       "      <th>Amount of Payment Schedule (ex GST)</th>\n",
       "    </tr>\n",
       "  </thead>\n",
       "  <tbody>\n",
       "    <tr>\n",
       "      <th>count</th>\n",
       "      <td>1.960000e+02</td>\n",
       "      <td>1.960000e+02</td>\n",
       "    </tr>\n",
       "    <tr>\n",
       "      <th>mean</th>\n",
       "      <td>-2.265761e-17</td>\n",
       "      <td>-2.718914e-17</td>\n",
       "    </tr>\n",
       "    <tr>\n",
       "      <th>std</th>\n",
       "      <td>1.002561e+00</td>\n",
       "      <td>1.002561e+00</td>\n",
       "    </tr>\n",
       "    <tr>\n",
       "      <th>min</th>\n",
       "      <td>-1.264473e-01</td>\n",
       "      <td>-4.026404e-01</td>\n",
       "    </tr>\n",
       "    <tr>\n",
       "      <th>25%</th>\n",
       "      <td>-1.213736e-01</td>\n",
       "      <td>-4.026404e-01</td>\n",
       "    </tr>\n",
       "    <tr>\n",
       "      <th>50%</th>\n",
       "      <td>-1.132991e-01</td>\n",
       "      <td>3.241614e-04</td>\n",
       "    </tr>\n",
       "    <tr>\n",
       "      <th>75%</th>\n",
       "      <td>-8.320839e-02</td>\n",
       "      <td>1.712469e-03</td>\n",
       "    </tr>\n",
       "    <tr>\n",
       "      <th>max</th>\n",
       "      <td>1.371755e+01</td>\n",
       "      <td>1.031279e+01</td>\n",
       "    </tr>\n",
       "  </tbody>\n",
       "</table>\n",
       "</div>"
      ],
      "text/plain": [
       "       Claimed amount (ex GST)  Amount of Payment Schedule (ex GST)\n",
       "count             1.960000e+02                         1.960000e+02\n",
       "mean             -2.265761e-17                        -2.718914e-17\n",
       "std               1.002561e+00                         1.002561e+00\n",
       "min              -1.264473e-01                        -4.026404e-01\n",
       "25%              -1.213736e-01                        -4.026404e-01\n",
       "50%              -1.132991e-01                         3.241614e-04\n",
       "75%              -8.320839e-02                         1.712469e-03\n",
       "max               1.371755e+01                         1.031279e+01"
      ]
     },
     "execution_count": 48,
     "metadata": {},
     "output_type": "execute_result"
    }
   ],
   "source": [
    "from sklearn.preprocessing import StandardScaler\n",
    "scaler = StandardScaler()\n",
    "num = X.select_dtypes(include='float64')\n",
    "numerical = scaler.fit_transform(num)\n",
    "num_vars = pd.DataFrame(numerical, columns = num.columns)\n",
    "num_vars.describe()"
   ]
  },
  {
   "attachments": {},
   "cell_type": "markdown",
   "metadata": {},
   "source": [
    "<blockquote style=\"padding: 10px;\">\n",
    "<h3>3.2.2 Categorical Variables</h4>\n",
    "\n",
    "To encode the categorical variables the `OneHotEncoder` was the choice. This encoder, as its name states, transform the categorical variables into mx(n-1) matrixes, where m is the number of samples in the original dataset, while n is the number of categories in the variable. in this matrix, for each sample vector, only the position of the vector where the category takes a value is 1, otherwise the positions are set to 0.\n",
    " \n",
    "This approach is one of the many encoders that can be used for categorical data, and we have chosen it because it is easier to apply and interpret than other encoders.\n"
   ]
  },
  {
   "cell_type": "code",
   "execution_count": null,
   "metadata": {},
   "outputs": [
    {
     "name": "stdout",
     "output_type": "stream",
     "text": [
      "Number of categorical columns before the encoding: 18\n",
      "Number of categorical columns after the encoding: 83\n"
     ]
    }
   ],
   "source": [
    "from sklearn.preprocessing import OneHotEncoder\n",
    "OneHotEncoder = OneHotEncoder()\n",
    "cat = X.select_dtypes(include='object')\n",
    "categorical = OneHotEncoder.fit_transform(cat)\n",
    "cat_vars = pd.DataFrame(categorical.toarray(), columns = OneHotEncoder.get_feature_names_out())\n",
    "print(f'Number of categorical columns before the encoding: {cat.shape[1]}')\n",
    "print(f'Number of categorical columns after the encoding: {cat_vars.shape[1]}')"
   ]
  },
  {
   "attachments": {},
   "cell_type": "markdown",
   "metadata": {},
   "source": [
    "<blockquote style=\"padding: 10px;\">\n",
    "<h1> 4. ML modelling</h1>\n",
    "\n",
    "> **Models to run:**     \n",
    "    - `Logistic regression`: Classification model to predict binary outcomes, it is fitted applying a sigmoid function over a linear regression, which allows us to somehow interpret the results obtained by the model.      \n",
    "    - `Random Forest` and `Xgboost`: Both are tree-like algorithms that work through `decision Tree` ensembles with different methods to fit a regression variable. These algorithms by their decision tree origins allow us to know the feature importance of the independent variables when predicting the response.     \n",
    " \n",
    "\n",
    "> **Approach:** Here our approach was to evaluate three different models with two different methods over the dataset to see which of them gave us the best results.     \n",
    "    - `balancing`: For the first method we did dataset balancing over the response variable with a method called `SMOTE` which in the end do some oversampling over the data to balance response categories, then we directly applied the ML algorithms.    \n",
    "    - `bootstrapping`: The second method applied was to run the models with bootstrapping directly over the unbalanced dataset to avoid the negative effects of the unbalanced dataset."
   ]
  },
  {
   "attachments": {},
   "cell_type": "markdown",
   "metadata": {},
   "source": [
    "<blockquote style=\"padding: 10px;\">\n",
    "<h3>4.1 Train-test split</h3>\n",
    "\n",
    "> For the first approach the dataset is splitted 70%-30% with a `random_state` of 1"
   ]
  },
  {
   "cell_type": "code",
   "execution_count": null,
   "metadata": {},
   "outputs": [],
   "source": [
    "from sklearn.model_selection import train_test_split\n",
    "\n",
    "# Join preprocessed data\n",
    "X_ = pd.concat([num_vars, cat_vars], axis=1)\n",
    "\n",
    "# train test splits\n",
    "X_train, X_test, y_train, y_test = train_test_split(X_, y, test_size=0.3, random_state=1)"
   ]
  },
  {
   "attachments": {},
   "cell_type": "markdown",
   "metadata": {},
   "source": [
    "<blockquote style=\"padding: 10px;\">\n",
    "<h3>4.2 Balancing: Oversampling imbalanced dataset  "
   ]
  },
  {
   "cell_type": "code",
   "execution_count": null,
   "metadata": {},
   "outputs": [
    {
     "data": {
      "text/plain": [
       "Adjudicated amount (ex GST)\n",
       "0    76.020408\n",
       "1    23.979592\n",
       "Name: count, dtype: float64"
      ]
     },
     "metadata": {},
     "output_type": "display_data"
    }
   ],
   "source": [
    "# The dataset is unbalanced\n",
    "y.value_counts()/len(y)*100"
   ]
  },
  {
   "cell_type": "code",
   "execution_count": null,
   "metadata": {},
   "outputs": [
    {
     "data": {
      "text/plain": [
       "{0: 105, 1: 105}"
      ]
     },
     "execution_count": 30,
     "metadata": {},
     "output_type": "execute_result"
    }
   ],
   "source": [
    "from imblearn.over_sampling import SMOTE\n",
    "\n",
    "# Balancing dataset by oversampling\n",
    "X_smote, y_smote  = SMOTE().fit_resample(X_train, y_train)\n",
    "\n",
    "X_train_os = pd.DataFrame(X_smote)\n",
    "y_train_os = pd.DataFrame(y_smote).values.ravel()\n",
    "\n",
    "unique, counts = np.unique(y_train_os, return_counts=True)\n",
    "dict(zip(unique, counts))"
   ]
  },
  {
   "attachments": {},
   "cell_type": "markdown",
   "metadata": {},
   "source": [
    "> The oversampling techniques are a good approach to balance a dataset when it is highly umbalanced. However, It can increase the chance of overfitting specially when the dataset size is so small."
   ]
  },
  {
   "attachments": {},
   "cell_type": "markdown",
   "metadata": {},
   "source": [
    "<blockquote style=\"padding: 10px;\">\n",
    "<h2>4.3 Logistic Regression<h2>  \n",
    "<h3>4.3.1 LR - Balanced dataset<h3>  "
   ]
  },
  {
   "cell_type": "code",
   "execution_count": null,
   "metadata": {},
   "outputs": [],
   "source": [
    "from sklearn.metrics import accuracy_score, recall_score, precision_score, f1_score\n",
    "from sklearn.metrics import confusion_matrix, ConfusionMatrixDisplay\n",
    "import matplotlib.pyplot as plt"
   ]
  },
  {
   "cell_type": "code",
   "execution_count": null,
   "metadata": {},
   "outputs": [],
   "source": [
    "#Helper functions for evaluation metrics\n",
    "\n",
    "# Evaluate model balanced\n",
    "def evaluate(model, y_test, y_pred):\n",
    "    metrics= {\n",
    "        model:\n",
    "        {'Recall': round(recall_score(y_test, y_pred),3),\n",
    "        'Precision': round(precision_score(y_test, y_pred),3),\n",
    "        'F1': round(f1_score(y_test, y_pred),3),\n",
    "        'Accuracy': round(accuracy_score(y_test, y_pred),3)}}\n",
    "    return metrics\n",
    "\n",
    "# Evaluate model with bootstrap\n",
    "def evaluate_boots(model, recall_, precision_, f1_, accuracy_):\n",
    "    metrics= {\n",
    "        model:\n",
    "        {'Recall': round(np.mean(recall_),3),\n",
    "        'Precision': round(np.mean(precision_),3),\n",
    "        'F1': round(np.mean(f1_),3),\n",
    "        'Accuracy': round(np.mean(accuracy_),3),}}\n",
    "    return metrics"
   ]
  },
  {
   "cell_type": "code",
   "execution_count": null,
   "metadata": {},
   "outputs": [],
   "source": [
    "from sklearn.linear_model import LogisticRegression\n",
    "\n",
    "# Instanciate model\n",
    "log_model = LogisticRegression(random_state=1)\n",
    "\n",
    "# Fit model on training data\n",
    "log_model.fit(X_train_os, y_train_os)\n",
    "\n",
    "# Make predictions for test data\n",
    "y_pred = log_model.predict(X_test)"
   ]
  },
  {
   "cell_type": "code",
   "execution_count": null,
   "metadata": {},
   "outputs": [
    {
     "data": {
      "text/html": [
       "<div>\n",
       "<style scoped>\n",
       "    .dataframe tbody tr th:only-of-type {\n",
       "        vertical-align: middle;\n",
       "    }\n",
       "\n",
       "    .dataframe tbody tr th {\n",
       "        vertical-align: top;\n",
       "    }\n",
       "\n",
       "    .dataframe thead th {\n",
       "        text-align: right;\n",
       "    }\n",
       "</style>\n",
       "<table border=\"1\" class=\"dataframe\">\n",
       "  <thead>\n",
       "    <tr style=\"text-align: right;\">\n",
       "      <th></th>\n",
       "      <th>Logreg_Balanced</th>\n",
       "    </tr>\n",
       "  </thead>\n",
       "  <tbody>\n",
       "    <tr>\n",
       "      <th>Accuracy</th>\n",
       "      <td>0.712</td>\n",
       "    </tr>\n",
       "    <tr>\n",
       "      <th>F1</th>\n",
       "      <td>0.514</td>\n",
       "    </tr>\n",
       "    <tr>\n",
       "      <th>Precision</th>\n",
       "      <td>0.450</td>\n",
       "    </tr>\n",
       "    <tr>\n",
       "      <th>Recall</th>\n",
       "      <td>0.600</td>\n",
       "    </tr>\n",
       "  </tbody>\n",
       "</table>\n",
       "</div>"
      ],
      "text/plain": [
       "           Logreg_Balanced\n",
       "Accuracy             0.712\n",
       "F1                   0.514\n",
       "Precision            0.450\n",
       "Recall               0.600"
      ]
     },
     "execution_count": 34,
     "metadata": {},
     "output_type": "execute_result"
    }
   ],
   "source": [
    "# Evaluate model\n",
    "lr = pd.DataFrame(evaluate('Logreg_Balanced', y_test, y_pred))\n",
    "lr"
   ]
  },
  {
   "cell_type": "code",
   "execution_count": null,
   "metadata": {},
   "outputs": [
    {
     "data": {
      "image/png": "[encoded data removed]",
      "text/plain": [
       "<Figure size 640x480 with 2 Axes>"
      ]
     },
     "metadata": {},
     "output_type": "display_data"
    }
   ],
   "source": [
    "# Confusion matrix\n",
    "cm = confusion_matrix(y_test, y_pred, labels=log_model.classes_)\n",
    "ConfusionMatrixDisplay(confusion_matrix=cm, display_labels=log_model.classes_).plot()\n",
    "plt.title('Confusion matrix for XGBoost')\n",
    "plt.show()"
   ]
  },
  {
   "attachments": {},
   "cell_type": "markdown",
   "metadata": {},
   "source": [
    "<blockquote style=\"padding: 10px;\">\n",
    "<h3>4.3.2 LR - Bootstraping</h3>  "
   ]
  },
  {
   "cell_type": "code",
   "execution_count": null,
   "metadata": {},
   "outputs": [],
   "source": [
    "# scikit-learn bootstrap\n",
    "from sklearn.utils import resample\n",
    "\n",
    "n = X_.shape[0]\n",
    "\n",
    "# Storing the metrics for each dataset\n",
    "accuracies_lg = []\n",
    "precisions_lg = []\n",
    "recalls_lg = []\n",
    "f1s_lg = []\n",
    "\n",
    "# Loop through each dataset, split data based on bootstrapping indices + fit model + evaluate\n",
    "for i in range(10):\n",
    "    # prepare bootstrap sample\n",
    "    boot_index = resample(range(n), replace=True, n_samples=n, random_state=i)\n",
    "    # out of bag observations\n",
    "    oob_index = [x for x in range(n) if x not in boot_index]\n",
    "    # Split datasets\n",
    "    X_train = X_.iloc[boot_index,:]\n",
    "    X_test = X_.iloc[oob_index,:]\n",
    "    y_train = y.iloc[boot_index]\n",
    "    y_test = y.iloc[oob_index]\n",
    "    \n",
    "    # Train\n",
    "    # Instanciate model\n",
    "    lg_model = LogisticRegression(random_state=1)\n",
    "    lg_model.fit(X_train_os, y_train_os)\n",
    "    \n",
    "    # Predict\n",
    "    y_pred = lg_model.predict(X_test)\n",
    "    \n",
    "    # Evaluate\n",
    "    accuracies_lg.append(accuracy_score(y_test, y_pred))\n",
    "    recalls_lg.append(recall_score(y_test, y_pred))\n",
    "    precisions_lg.append(precision_score(y_test, y_pred))\n",
    "    f1s_lg.append(f1_score(y_test, y_pred))"
   ]
  },
  {
   "cell_type": "code",
   "execution_count": null,
   "metadata": {},
   "outputs": [
    {
     "data": {
      "text/html": [
       "<div>\n",
       "<style scoped>\n",
       "    .dataframe tbody tr th:only-of-type {\n",
       "        vertical-align: middle;\n",
       "    }\n",
       "\n",
       "    .dataframe tbody tr th {\n",
       "        vertical-align: top;\n",
       "    }\n",
       "\n",
       "    .dataframe thead th {\n",
       "        text-align: right;\n",
       "    }\n",
       "</style>\n",
       "<table border=\"1\" class=\"dataframe\">\n",
       "  <thead>\n",
       "    <tr style=\"text-align: right;\">\n",
       "      <th></th>\n",
       "      <th>Logreg_Bootstrap</th>\n",
       "    </tr>\n",
       "  </thead>\n",
       "  <tbody>\n",
       "    <tr>\n",
       "      <th>Accuracy</th>\n",
       "      <td>0.849</td>\n",
       "    </tr>\n",
       "    <tr>\n",
       "      <th>F1</th>\n",
       "      <td>0.717</td>\n",
       "    </tr>\n",
       "    <tr>\n",
       "      <th>Precision</th>\n",
       "      <td>0.658</td>\n",
       "    </tr>\n",
       "    <tr>\n",
       "      <th>Recall</th>\n",
       "      <td>0.793</td>\n",
       "    </tr>\n",
       "  </tbody>\n",
       "</table>\n",
       "</div>"
      ],
      "text/plain": [
       "           Logreg_Bootstrap\n",
       "Accuracy              0.849\n",
       "F1                    0.717\n",
       "Precision             0.658\n",
       "Recall                0.793"
      ]
     },
     "execution_count": 37,
     "metadata": {},
     "output_type": "execute_result"
    }
   ],
   "source": [
    "# Evaluate best model\n",
    "lr_boo = pd.DataFrame(evaluate_boots('Logreg_Bootstrap', recalls_lg, precisions_lg, f1s_lg, accuracies_lg))\n",
    "lr_boo"
   ]
  },
  {
   "attachments": {},
   "cell_type": "markdown",
   "metadata": {},
   "source": [
    "<blockquote style=\"padding: 10px;\">\n",
    "<h3>4.4 Random Forest  \n",
    "<h3>4.4.1 RF - Balanced dataset<h3>  "
   ]
  },
  {
   "cell_type": "code",
   "execution_count": null,
   "metadata": {},
   "outputs": [],
   "source": [
    "from sklearn.ensemble import RandomForestClassifier\n",
    "\n",
    "# Instanciate model\n",
    "rf_model = RandomForestClassifier(random_state=1)\n",
    "\n",
    "# Fit model on training data\n",
    "rf_model.fit(X_train_os, y_train_os)\n",
    "\n",
    "# Make predictions for test data\n",
    "y_pred = rf_model.predict(X_test)"
   ]
  },
  {
   "cell_type": "code",
   "execution_count": null,
   "metadata": {},
   "outputs": [
    {
     "data": {
      "text/html": [
       "<div>\n",
       "<style scoped>\n",
       "    .dataframe tbody tr th:only-of-type {\n",
       "        vertical-align: middle;\n",
       "    }\n",
       "\n",
       "    .dataframe tbody tr th {\n",
       "        vertical-align: top;\n",
       "    }\n",
       "\n",
       "    .dataframe thead th {\n",
       "        text-align: right;\n",
       "    }\n",
       "</style>\n",
       "<table border=\"1\" class=\"dataframe\">\n",
       "  <thead>\n",
       "    <tr style=\"text-align: right;\">\n",
       "      <th></th>\n",
       "      <th>RandomForest_Balanced</th>\n",
       "    </tr>\n",
       "  </thead>\n",
       "  <tbody>\n",
       "    <tr>\n",
       "      <th>Accuracy</th>\n",
       "      <td>0.987</td>\n",
       "    </tr>\n",
       "    <tr>\n",
       "      <th>F1</th>\n",
       "      <td>0.966</td>\n",
       "    </tr>\n",
       "    <tr>\n",
       "      <th>Precision</th>\n",
       "      <td>1.000</td>\n",
       "    </tr>\n",
       "    <tr>\n",
       "      <th>Recall</th>\n",
       "      <td>0.933</td>\n",
       "    </tr>\n",
       "  </tbody>\n",
       "</table>\n",
       "</div>"
      ],
      "text/plain": [
       "           RandomForest_Balanced\n",
       "Accuracy                   0.987\n",
       "F1                         0.966\n",
       "Precision                  1.000\n",
       "Recall                     0.933"
      ]
     },
     "execution_count": 39,
     "metadata": {},
     "output_type": "execute_result"
    }
   ],
   "source": [
    "# Evaluate model\n",
    "rf = pd.DataFrame(evaluate('RandomForest_Balanced', y_test, y_pred))\n",
    "rf"
   ]
  },
  {
   "cell_type": "code",
   "execution_count": null,
   "metadata": {},
   "outputs": [
    {
     "data": {
      "image/png": "[encoded data removed]",
      "text/plain": [
       "<Figure size 640x480 with 2 Axes>"
      ]
     },
     "metadata": {},
     "output_type": "display_data"
    }
   ],
   "source": [
    "# Confusion matrix\n",
    "cm = confusion_matrix(y_test, y_pred, labels=rf_model.classes_)\n",
    "ConfusionMatrixDisplay(confusion_matrix=cm, display_labels=rf_model.classes_).plot()\n",
    "plt.title('Confusion matrix for XGBoost')\n",
    "plt.show()"
   ]
  },
  {
   "attachments": {},
   "cell_type": "markdown",
   "metadata": {},
   "source": [
    "<blockquote style=\"padding: 10px;\">\n",
    "<h3>4.4.2 RF - Bootstraping</h3>  "
   ]
  },
  {
   "cell_type": "code",
   "execution_count": null,
   "metadata": {},
   "outputs": [],
   "source": [
    "# scikit-learn bootstrap\n",
    "from sklearn.utils import resample\n",
    "\n",
    "n = X_.shape[0]\n",
    "\n",
    "# Storing the metrics for each dataset\n",
    "accuracies_rf = []\n",
    "precisions_rf = []\n",
    "recalls_rf = []\n",
    "f1s_rf = []\n",
    "\n",
    "# Loop through each dataset, split data based on bootstrapping indices + fit model + evaluate\n",
    "for i in range(10):\n",
    "    # prepare bootstrap sample\n",
    "    boot_index = resample(range(n), replace=True, n_samples=n, random_state=i)\n",
    "    # out of bag observations\n",
    "    oob_index = [x for x in range(n) if x not in boot_index]\n",
    "    # Split datasets\n",
    "    X_train = X_.iloc[boot_index,:]\n",
    "    X_test = X_.iloc[oob_index,:]\n",
    "    y_train = y.iloc[boot_index]\n",
    "    y_test = y.iloc[oob_index]\n",
    "    \n",
    "    # Train\n",
    "    # Instanciate model\n",
    "    rf_mod = RandomForestClassifier(random_state=1)\n",
    "    rf_mod.fit(X_train, y_train)\n",
    "    \n",
    "    # Predict\n",
    "    y_pred = rf_mod.predict(X_test)\n",
    "    \n",
    "    # Evaluate\n",
    "    accuracies_rf.append(accuracy_score(y_test, y_pred))\n",
    "    recalls_rf.append(recall_score(y_test, y_pred))\n",
    "    precisions_rf.append(precision_score(y_test, y_pred))\n",
    "    f1s_rf.append(f1_score(y_test, y_pred))"
   ]
  },
  {
   "cell_type": "code",
   "execution_count": null,
   "metadata": {},
   "outputs": [
    {
     "data": {
      "text/html": [
       "<div>\n",
       "<style scoped>\n",
       "    .dataframe tbody tr th:only-of-type {\n",
       "        vertical-align: middle;\n",
       "    }\n",
       "\n",
       "    .dataframe tbody tr th {\n",
       "        vertical-align: top;\n",
       "    }\n",
       "\n",
       "    .dataframe thead th {\n",
       "        text-align: right;\n",
       "    }\n",
       "</style>\n",
       "<table border=\"1\" class=\"dataframe\">\n",
       "  <thead>\n",
       "    <tr style=\"text-align: right;\">\n",
       "      <th></th>\n",
       "      <th>RandomForest_Bootstrap</th>\n",
       "    </tr>\n",
       "  </thead>\n",
       "  <tbody>\n",
       "    <tr>\n",
       "      <th>Accuracy</th>\n",
       "      <td>0.810</td>\n",
       "    </tr>\n",
       "    <tr>\n",
       "      <th>F1</th>\n",
       "      <td>0.474</td>\n",
       "    </tr>\n",
       "    <tr>\n",
       "      <th>Precision</th>\n",
       "      <td>0.737</td>\n",
       "    </tr>\n",
       "    <tr>\n",
       "      <th>Recall</th>\n",
       "      <td>0.365</td>\n",
       "    </tr>\n",
       "  </tbody>\n",
       "</table>\n",
       "</div>"
      ],
      "text/plain": [
       "           RandomForest_Bootstrap\n",
       "Accuracy                    0.810\n",
       "F1                          0.474\n",
       "Precision                   0.737\n",
       "Recall                      0.365"
      ]
     },
     "execution_count": 42,
     "metadata": {},
     "output_type": "execute_result"
    }
   ],
   "source": [
    "# Evaluate best model\n",
    "rf_boo = pd.DataFrame(evaluate_boots('RandomForest_Bootstrap', recalls_rf, precisions_rf, f1s_rf, accuracies_rf))\n",
    "rf_boo"
   ]
  },
  {
   "attachments": {},
   "cell_type": "markdown",
   "metadata": {},
   "source": [
    "<blockquote style=\"padding: 10px;\">\n",
    "<h3>4.5 XgBoost</h3>\n",
    "<h3>4.5.1 XGB - Balanced dataset<h3>  "
   ]
  },
  {
   "cell_type": "code",
   "execution_count": null,
   "metadata": {},
   "outputs": [],
   "source": [
    "from xgboost import XGBClassifier\n",
    "\n",
    "# Instanciate model\n",
    "model = XGBClassifier(random_state=1)\n",
    "\n",
    "# Fit model on training data\n",
    "model.fit(X_train_os, y_train_os)\n",
    "\n",
    "# Make predictions for test data\n",
    "y_pred = model.predict(X_test)"
   ]
  },
  {
   "cell_type": "code",
   "execution_count": null,
   "metadata": {},
   "outputs": [
    {
     "data": {
      "text/html": [
       "<div>\n",
       "<style scoped>\n",
       "    .dataframe tbody tr th:only-of-type {\n",
       "        vertical-align: middle;\n",
       "    }\n",
       "\n",
       "    .dataframe tbody tr th {\n",
       "        vertical-align: top;\n",
       "    }\n",
       "\n",
       "    .dataframe thead th {\n",
       "        text-align: right;\n",
       "    }\n",
       "</style>\n",
       "<table border=\"1\" class=\"dataframe\">\n",
       "  <thead>\n",
       "    <tr style=\"text-align: right;\">\n",
       "      <th></th>\n",
       "      <th>Xgboost_Balanced</th>\n",
       "    </tr>\n",
       "  </thead>\n",
       "  <tbody>\n",
       "    <tr>\n",
       "      <th>Accuracy</th>\n",
       "      <td>0.973</td>\n",
       "    </tr>\n",
       "    <tr>\n",
       "      <th>F1</th>\n",
       "      <td>0.929</td>\n",
       "    </tr>\n",
       "    <tr>\n",
       "      <th>Precision</th>\n",
       "      <td>1.000</td>\n",
       "    </tr>\n",
       "    <tr>\n",
       "      <th>Recall</th>\n",
       "      <td>0.867</td>\n",
       "    </tr>\n",
       "  </tbody>\n",
       "</table>\n",
       "</div>"
      ],
      "text/plain": [
       "           Xgboost_Balanced\n",
       "Accuracy              0.973\n",
       "F1                    0.929\n",
       "Precision             1.000\n",
       "Recall                0.867"
      ]
     },
     "execution_count": 44,
     "metadata": {},
     "output_type": "execute_result"
    }
   ],
   "source": [
    "# Evaluate model\n",
    "xgb = pd.DataFrame(evaluate('Xgboost_Balanced', y_test, y_pred))\n",
    "xgb"
   ]
  },
  {
   "cell_type": "code",
   "execution_count": null,
   "metadata": {},
   "outputs": [
    {
     "data": {
      "image/png": "[encoded data removed]",
      "text/plain": [
       "<Figure size 640x480 with 2 Axes>"
      ]
     },
     "metadata": {},
     "output_type": "display_data"
    }
   ],
   "source": [
    "# Confusion matrix\n",
    "cm = confusion_matrix(y_test, y_pred, labels=model.classes_)\n",
    "ConfusionMatrixDisplay(confusion_matrix=cm, display_labels=model.classes_).plot()\n",
    "plt.title('Confusion matrix for XGBoost')\n",
    "plt.show()"
   ]
  },
  {
   "attachments": {},
   "cell_type": "markdown",
   "metadata": {},
   "source": [
    "<blockquote style=\"padding: 10px;\">\n",
    "<h3>4.5.2 XGB - Bootstraping</h3>  "
   ]
  },
  {
   "cell_type": "code",
   "execution_count": null,
   "metadata": {},
   "outputs": [],
   "source": [
    "# scikit-learn bootstrap\n",
    "from sklearn.utils import resample\n",
    "\n",
    "n = X_.shape[0]\n",
    "\n",
    "# Storing the metrics for each dataset\n",
    "accuracies_xg = []\n",
    "precisions_xg = []\n",
    "recalls_xg = []\n",
    "f1s_xg = []\n",
    "\n",
    "# Loop through each dataset, split data based on bootstrapping indices + fit model + evaluate\n",
    "for i in range(10):\n",
    "    # prepare bootstrap sample\n",
    "    boot_index = resample(range(n), replace=True, n_samples=n, random_state=i)\n",
    "    # out of bag observations\n",
    "    oob_index = [x for x in range(n) if x not in boot_index]\n",
    "    # Split datasets\n",
    "    X_train = X_.iloc[boot_index,:]\n",
    "    X_test = X_.iloc[oob_index,:]\n",
    "    y_train = y.iloc[boot_index]\n",
    "    y_test = y.iloc[oob_index]\n",
    "    \n",
    "    # Train\n",
    "    # Instanciate model\n",
    "    xg_model = XGBClassifier(random_state=1)\n",
    "    xg_model.fit(X_train_os, y_train_os)\n",
    "    \n",
    "    # Predict\n",
    "    y_pred = xg_model.predict(X_test)\n",
    "\n",
    "    # Evaluate\n",
    "    accuracies_xg.append(accuracy_score(y_test, y_pred))\n",
    "    recalls_xg.append(recall_score(y_test, y_pred))\n",
    "    precisions_xg.append(precision_score(y_test, y_pred))\n",
    "    f1s_xg.append(f1_score(y_test, y_pred))"
   ]
  },
  {
   "cell_type": "code",
   "execution_count": null,
   "metadata": {},
   "outputs": [
    {
     "data": {
      "text/html": [
       "<div>\n",
       "<style scoped>\n",
       "    .dataframe tbody tr th:only-of-type {\n",
       "        vertical-align: middle;\n",
       "    }\n",
       "\n",
       "    .dataframe tbody tr th {\n",
       "        vertical-align: top;\n",
       "    }\n",
       "\n",
       "    .dataframe thead th {\n",
       "        text-align: right;\n",
       "    }\n",
       "</style>\n",
       "<table border=\"1\" class=\"dataframe\">\n",
       "  <thead>\n",
       "    <tr style=\"text-align: right;\">\n",
       "      <th></th>\n",
       "      <th>Xgboost_Bootstrap</th>\n",
       "    </tr>\n",
       "  </thead>\n",
       "  <tbody>\n",
       "    <tr>\n",
       "      <th>Accuracy</th>\n",
       "      <td>0.942</td>\n",
       "    </tr>\n",
       "    <tr>\n",
       "      <th>F1</th>\n",
       "      <td>0.862</td>\n",
       "    </tr>\n",
       "    <tr>\n",
       "      <th>Precision</th>\n",
       "      <td>0.936</td>\n",
       "    </tr>\n",
       "    <tr>\n",
       "      <th>Recall</th>\n",
       "      <td>0.803</td>\n",
       "    </tr>\n",
       "  </tbody>\n",
       "</table>\n",
       "</div>"
      ],
      "text/plain": [
       "           Xgboost_Bootstrap\n",
       "Accuracy               0.942\n",
       "F1                     0.862\n",
       "Precision              0.936\n",
       "Recall                 0.803"
      ]
     },
     "execution_count": 62,
     "metadata": {},
     "output_type": "execute_result"
    }
   ],
   "source": [
    "# Evaluate best model\n",
    "xgb_boo = pd.DataFrame(evaluate_boots('Xgboost_Bootstrap', recalls_xg, precisions_xg, f1s_xg, accuracies_xg))\n",
    "xgb_boo"
   ]
  },
  {
   "cell_type": "code",
   "execution_count": null,
   "metadata": {},
   "outputs": [
    {
     "name": "stdout",
     "output_type": "stream",
     "text": [
      "[0.9565217391304348, 0.9054054054054054, 0.9487179487179487, 0.9493670886075949, 0.9154929577464789, 0.9436619718309859, 0.9104477611940298, 0.9861111111111112, 0.9305555555555556, 0.9733333333333334]\n",
      "[0.8636363636363636, 0.6666666666666666, 0.8095238095238095, 0.8888888888888888, 0.7058823529411765, 0.8888888888888888, 0.6428571428571429, 0.95, 0.75, 0.8666666666666667]\n",
      "[1.0, 0.8333333333333334, 1.0, 0.8888888888888888, 0.9230769230769231, 0.8888888888888888, 0.9, 1.0, 0.9230769230769231, 1.0]\n",
      "[0.9268292682926829, 0.7407407407407408, 0.8947368421052632, 0.8888888888888888, 0.8000000000000002, 0.8888888888888888, 0.75, 0.9743589743589743, 0.8275862068965517, 0.9285714285714286]\n"
     ]
    }
   ],
   "source": [
    "print(accuracies_xg)  \n",
    "print(recalls_xg)\n",
    "print(precisions_xg)\n",
    "print(f1s_xg)"
   ]
  },
  {
   "attachments": {},
   "cell_type": "markdown",
   "metadata": {},
   "source": [
    "<blockquote style=\"padding: 10px;\">\n",
    "<h2>4.5 Models evaluation and selection"
   ]
  },
  {
   "cell_type": "code",
   "execution_count": null,
   "metadata": {},
   "outputs": [
    {
     "data": {
      "text/html": [
       "<div>\n",
       "<style scoped>\n",
       "    .dataframe tbody tr th:only-of-type {\n",
       "        vertical-align: middle;\n",
       "    }\n",
       "\n",
       "    .dataframe tbody tr th {\n",
       "        vertical-align: top;\n",
       "    }\n",
       "\n",
       "    .dataframe thead th {\n",
       "        text-align: right;\n",
       "    }\n",
       "</style>\n",
       "<table border=\"1\" class=\"dataframe\">\n",
       "  <thead>\n",
       "    <tr style=\"text-align: right;\">\n",
       "      <th></th>\n",
       "      <th>Logreg_Balanced</th>\n",
       "      <th>RandomForest_Balanced</th>\n",
       "      <th>Xgboost_Balanced</th>\n",
       "      <th>Logreg_Bootstrap</th>\n",
       "      <th>RandomForest_Bootstrap</th>\n",
       "      <th>Xgboost_Bootstrap</th>\n",
       "    </tr>\n",
       "  </thead>\n",
       "  <tbody>\n",
       "    <tr>\n",
       "      <th>Accuracy</th>\n",
       "      <td>0.712</td>\n",
       "      <td>0.987</td>\n",
       "      <td>0.973</td>\n",
       "      <td>0.849</td>\n",
       "      <td>0.810</td>\n",
       "      <td>0.942</td>\n",
       "    </tr>\n",
       "    <tr>\n",
       "      <th>F1</th>\n",
       "      <td>0.514</td>\n",
       "      <td>0.966</td>\n",
       "      <td>0.929</td>\n",
       "      <td>0.717</td>\n",
       "      <td>0.474</td>\n",
       "      <td>0.862</td>\n",
       "    </tr>\n",
       "    <tr>\n",
       "      <th>Precision</th>\n",
       "      <td>0.450</td>\n",
       "      <td>1.000</td>\n",
       "      <td>1.000</td>\n",
       "      <td>0.658</td>\n",
       "      <td>0.737</td>\n",
       "      <td>0.936</td>\n",
       "    </tr>\n",
       "    <tr>\n",
       "      <th>Recall</th>\n",
       "      <td>0.600</td>\n",
       "      <td>0.933</td>\n",
       "      <td>0.867</td>\n",
       "      <td>0.793</td>\n",
       "      <td>0.365</td>\n",
       "      <td>0.803</td>\n",
       "    </tr>\n",
       "  </tbody>\n",
       "</table>\n",
       "</div>"
      ],
      "text/plain": [
       "           Logreg_Balanced  RandomForest_Balanced  Xgboost_Balanced   \n",
       "Accuracy             0.712                  0.987             0.973  \\\n",
       "F1                   0.514                  0.966             0.929   \n",
       "Precision            0.450                  1.000             1.000   \n",
       "Recall               0.600                  0.933             0.867   \n",
       "\n",
       "           Logreg_Bootstrap  RandomForest_Bootstrap  Xgboost_Bootstrap  \n",
       "Accuracy              0.849                   0.810              0.942  \n",
       "F1                    0.717                   0.474              0.862  \n",
       "Precision             0.658                   0.737              0.936  \n",
       "Recall                0.793                   0.365              0.803  "
      ]
     },
     "execution_count": 63,
     "metadata": {},
     "output_type": "execute_result"
    }
   ],
   "source": [
    "# Evaluate model\n",
    "pd.concat([lr, rf, xgb, lr_boo, rf_boo, xgb_boo], axis=1)"
   ]
  },
  {
   "attachments": {},
   "cell_type": "markdown",
   "metadata": {},
   "source": [
    "<blockquote style=\"padding: 10px;\">\n",
    "<h2>4.6 Feature selection"
   ]
  },
  {
   "cell_type": "code",
   "execution_count": null,
   "metadata": {},
   "outputs": [
    {
     "data": {
      "text/plain": [
       "<BarContainer object of 45 artists>"
      ]
     },
     "execution_count": 87,
     "metadata": {},
     "output_type": "execute_result"
    },
    {
     "data": {
      "image/png": "[encoded data removed]",
      "text/plain": [
       "<Figure size 1000x800 with 1 Axes>"
      ]
     },
     "metadata": {},
     "output_type": "display_data"
    }
   ],
   "source": [
    "features = pd.DataFrame(xg_model.feature_importances_, X_.columns, columns=['importance']).sort_values('importance', ascending=False).reset_index(names = 'feat')\n",
    "features = features[features['importance']>0]\n",
    "\n",
    "plt.figure(figsize=(10, 8))\n",
    "plt.barh(features['feat'], features['importance'])"
   ]
  },
  {
   "attachments": {},
   "cell_type": "markdown",
   "metadata": {},
   "source": [
    "> The selected model presents a `feature selection` naive approach were the model detected 45 out of the 83 variables to be useful in any way to the final prediction results."
   ]
  },
  {
   "attachments": {},
   "cell_type": "markdown",
   "metadata": {},
   "source": [
    "### References\n",
    "\n",
    "1. https://www.vba.vic.gov.au/about\n",
    "2. https://discover.data.vic.gov.au/organization/victorian-building-authority"
   ]
  }
 ],
 "metadata": {
  "kernelspec": {
   "display_name": "Python 3 (ipykernel)",
   "language": "python",
   "name": "python3"
  },
  "language_info": {
   "codemirror_mode": {
    "name": "ipython",
    "version": 3
   },
   "file_extension": ".py",
   "mimetype": "text/x-python",
   "name": "python",
   "nbconvert_exporter": "python",
   "pygments_lexer": "ipython3",
   "version": "3.11.2"
  }
 },
 "nbformat": 4,
 "nbformat_minor": 2
}
